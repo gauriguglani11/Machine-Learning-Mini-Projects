{
 "cells": [
  {
   "cell_type": "code",
   "execution_count": 1,
   "id": "46689a4d",
   "metadata": {
    "_cell_guid": "b1076dfc-b9ad-4769-8c92-a6c4dae69d19",
    "_uuid": "8f2839f25d086af736a60e9eeb907d3b93b6e0e5",
    "execution": {
     "iopub.execute_input": "2022-05-04T08:47:09.322433Z",
     "iopub.status.busy": "2022-05-04T08:47:09.321993Z",
     "iopub.status.idle": "2022-05-04T08:47:09.333993Z",
     "shell.execute_reply": "2022-05-04T08:47:09.333103Z"
    },
    "papermill": {
     "duration": 0.075733,
     "end_time": "2022-05-04T08:47:09.336494",
     "exception": false,
     "start_time": "2022-05-04T08:47:09.260761",
     "status": "completed"
    },
    "tags": []
   },
   "outputs": [],
   "source": [
    "import pandas as pd"
   ]
  },
  {
   "cell_type": "code",
   "execution_count": 2,
   "id": "afc138be",
   "metadata": {
    "execution": {
     "iopub.execute_input": "2022-05-04T08:47:09.457346Z",
     "iopub.status.busy": "2022-05-04T08:47:09.456760Z",
     "iopub.status.idle": "2022-05-04T08:47:09.483438Z",
     "shell.execute_reply": "2022-05-04T08:47:09.482744Z"
    },
    "papermill": {
     "duration": 0.089938,
     "end_time": "2022-05-04T08:47:09.485877",
     "exception": false,
     "start_time": "2022-05-04T08:47:09.395939",
     "status": "completed"
    },
    "tags": []
   },
   "outputs": [],
   "source": [
    "data = pd.read_csv(\"../input/data-visualizatiion/insurance.csv\")"
   ]
  },
  {
   "cell_type": "markdown",
   "id": "31a7be79",
   "metadata": {
    "papermill": {
     "duration": 0.05656,
     "end_time": "2022-05-04T08:47:09.600062",
     "exception": false,
     "start_time": "2022-05-04T08:47:09.543502",
     "status": "completed"
    },
    "tags": []
   },
   "source": [
    "# 1. Display Top 5 Rows of The Dataset"
   ]
  },
  {
   "cell_type": "code",
   "execution_count": 3,
   "id": "aa918a73",
   "metadata": {
    "execution": {
     "iopub.execute_input": "2022-05-04T08:47:09.716143Z",
     "iopub.status.busy": "2022-05-04T08:47:09.715749Z",
     "iopub.status.idle": "2022-05-04T08:47:09.739491Z",
     "shell.execute_reply": "2022-05-04T08:47:09.738626Z"
    },
    "papermill": {
     "duration": 0.08594,
     "end_time": "2022-05-04T08:47:09.742817",
     "exception": false,
     "start_time": "2022-05-04T08:47:09.656877",
     "status": "completed"
    },
    "tags": []
   },
   "outputs": [
    {
     "data": {
      "text/html": [
       "<div>\n",
       "<style scoped>\n",
       "    .dataframe tbody tr th:only-of-type {\n",
       "        vertical-align: middle;\n",
       "    }\n",
       "\n",
       "    .dataframe tbody tr th {\n",
       "        vertical-align: top;\n",
       "    }\n",
       "\n",
       "    .dataframe thead th {\n",
       "        text-align: right;\n",
       "    }\n",
       "</style>\n",
       "<table border=\"1\" class=\"dataframe\">\n",
       "  <thead>\n",
       "    <tr style=\"text-align: right;\">\n",
       "      <th></th>\n",
       "      <th>age</th>\n",
       "      <th>sex</th>\n",
       "      <th>bmi</th>\n",
       "      <th>children</th>\n",
       "      <th>smoker</th>\n",
       "      <th>region</th>\n",
       "      <th>charges</th>\n",
       "    </tr>\n",
       "  </thead>\n",
       "  <tbody>\n",
       "    <tr>\n",
       "      <th>0</th>\n",
       "      <td>19</td>\n",
       "      <td>female</td>\n",
       "      <td>27.900</td>\n",
       "      <td>0</td>\n",
       "      <td>yes</td>\n",
       "      <td>southwest</td>\n",
       "      <td>16884.92400</td>\n",
       "    </tr>\n",
       "    <tr>\n",
       "      <th>1</th>\n",
       "      <td>18</td>\n",
       "      <td>male</td>\n",
       "      <td>33.770</td>\n",
       "      <td>1</td>\n",
       "      <td>no</td>\n",
       "      <td>southeast</td>\n",
       "      <td>1725.55230</td>\n",
       "    </tr>\n",
       "    <tr>\n",
       "      <th>2</th>\n",
       "      <td>28</td>\n",
       "      <td>male</td>\n",
       "      <td>33.000</td>\n",
       "      <td>3</td>\n",
       "      <td>no</td>\n",
       "      <td>southeast</td>\n",
       "      <td>4449.46200</td>\n",
       "    </tr>\n",
       "    <tr>\n",
       "      <th>3</th>\n",
       "      <td>33</td>\n",
       "      <td>male</td>\n",
       "      <td>22.705</td>\n",
       "      <td>0</td>\n",
       "      <td>no</td>\n",
       "      <td>northwest</td>\n",
       "      <td>21984.47061</td>\n",
       "    </tr>\n",
       "    <tr>\n",
       "      <th>4</th>\n",
       "      <td>32</td>\n",
       "      <td>male</td>\n",
       "      <td>28.880</td>\n",
       "      <td>0</td>\n",
       "      <td>no</td>\n",
       "      <td>northwest</td>\n",
       "      <td>3866.85520</td>\n",
       "    </tr>\n",
       "  </tbody>\n",
       "</table>\n",
       "</div>"
      ],
      "text/plain": [
       "   age     sex     bmi  children smoker     region      charges\n",
       "0   19  female  27.900         0    yes  southwest  16884.92400\n",
       "1   18    male  33.770         1     no  southeast   1725.55230\n",
       "2   28    male  33.000         3     no  southeast   4449.46200\n",
       "3   33    male  22.705         0     no  northwest  21984.47061\n",
       "4   32    male  28.880         0     no  northwest   3866.85520"
      ]
     },
     "execution_count": 3,
     "metadata": {},
     "output_type": "execute_result"
    }
   ],
   "source": [
    "data.head(5)"
   ]
  },
  {
   "cell_type": "markdown",
   "id": "a9db5b4f",
   "metadata": {
    "papermill": {
     "duration": 0.061125,
     "end_time": "2022-05-04T08:47:09.862858",
     "exception": false,
     "start_time": "2022-05-04T08:47:09.801733",
     "status": "completed"
    },
    "tags": []
   },
   "source": [
    "# 2. Check Last 5 Rows of The Dataset"
   ]
  },
  {
   "cell_type": "code",
   "execution_count": 4,
   "id": "a1ec1a83",
   "metadata": {
    "execution": {
     "iopub.execute_input": "2022-05-04T08:47:09.981974Z",
     "iopub.status.busy": "2022-05-04T08:47:09.981188Z",
     "iopub.status.idle": "2022-05-04T08:47:09.996072Z",
     "shell.execute_reply": "2022-05-04T08:47:09.995088Z"
    },
    "papermill": {
     "duration": 0.078146,
     "end_time": "2022-05-04T08:47:09.998458",
     "exception": false,
     "start_time": "2022-05-04T08:47:09.920312",
     "status": "completed"
    },
    "tags": []
   },
   "outputs": [
    {
     "data": {
      "text/html": [
       "<div>\n",
       "<style scoped>\n",
       "    .dataframe tbody tr th:only-of-type {\n",
       "        vertical-align: middle;\n",
       "    }\n",
       "\n",
       "    .dataframe tbody tr th {\n",
       "        vertical-align: top;\n",
       "    }\n",
       "\n",
       "    .dataframe thead th {\n",
       "        text-align: right;\n",
       "    }\n",
       "</style>\n",
       "<table border=\"1\" class=\"dataframe\">\n",
       "  <thead>\n",
       "    <tr style=\"text-align: right;\">\n",
       "      <th></th>\n",
       "      <th>age</th>\n",
       "      <th>sex</th>\n",
       "      <th>bmi</th>\n",
       "      <th>children</th>\n",
       "      <th>smoker</th>\n",
       "      <th>region</th>\n",
       "      <th>charges</th>\n",
       "    </tr>\n",
       "  </thead>\n",
       "  <tbody>\n",
       "    <tr>\n",
       "      <th>1333</th>\n",
       "      <td>50</td>\n",
       "      <td>male</td>\n",
       "      <td>30.97</td>\n",
       "      <td>3</td>\n",
       "      <td>no</td>\n",
       "      <td>northwest</td>\n",
       "      <td>10600.5483</td>\n",
       "    </tr>\n",
       "    <tr>\n",
       "      <th>1334</th>\n",
       "      <td>18</td>\n",
       "      <td>female</td>\n",
       "      <td>31.92</td>\n",
       "      <td>0</td>\n",
       "      <td>no</td>\n",
       "      <td>northeast</td>\n",
       "      <td>2205.9808</td>\n",
       "    </tr>\n",
       "    <tr>\n",
       "      <th>1335</th>\n",
       "      <td>18</td>\n",
       "      <td>female</td>\n",
       "      <td>36.85</td>\n",
       "      <td>0</td>\n",
       "      <td>no</td>\n",
       "      <td>southeast</td>\n",
       "      <td>1629.8335</td>\n",
       "    </tr>\n",
       "    <tr>\n",
       "      <th>1336</th>\n",
       "      <td>21</td>\n",
       "      <td>female</td>\n",
       "      <td>25.80</td>\n",
       "      <td>0</td>\n",
       "      <td>no</td>\n",
       "      <td>southwest</td>\n",
       "      <td>2007.9450</td>\n",
       "    </tr>\n",
       "    <tr>\n",
       "      <th>1337</th>\n",
       "      <td>61</td>\n",
       "      <td>female</td>\n",
       "      <td>29.07</td>\n",
       "      <td>0</td>\n",
       "      <td>yes</td>\n",
       "      <td>northwest</td>\n",
       "      <td>29141.3603</td>\n",
       "    </tr>\n",
       "  </tbody>\n",
       "</table>\n",
       "</div>"
      ],
      "text/plain": [
       "      age     sex    bmi  children smoker     region     charges\n",
       "1333   50    male  30.97         3     no  northwest  10600.5483\n",
       "1334   18  female  31.92         0     no  northeast   2205.9808\n",
       "1335   18  female  36.85         0     no  southeast   1629.8335\n",
       "1336   21  female  25.80         0     no  southwest   2007.9450\n",
       "1337   61  female  29.07         0    yes  northwest  29141.3603"
      ]
     },
     "execution_count": 4,
     "metadata": {},
     "output_type": "execute_result"
    }
   ],
   "source": [
    "data.tail(5)"
   ]
  },
  {
   "cell_type": "markdown",
   "id": "6bf3e7f1",
   "metadata": {
    "papermill": {
     "duration": 0.058383,
     "end_time": "2022-05-04T08:47:10.115263",
     "exception": false,
     "start_time": "2022-05-04T08:47:10.056880",
     "status": "completed"
    },
    "tags": []
   },
   "source": [
    "# 3. Find Shape of Our Dataset (Number of Rows And Number of Columns)"
   ]
  },
  {
   "cell_type": "code",
   "execution_count": 5,
   "id": "67b50242",
   "metadata": {
    "execution": {
     "iopub.execute_input": "2022-05-04T08:47:10.235755Z",
     "iopub.status.busy": "2022-05-04T08:47:10.234978Z",
     "iopub.status.idle": "2022-05-04T08:47:10.242211Z",
     "shell.execute_reply": "2022-05-04T08:47:10.241003Z"
    },
    "papermill": {
     "duration": 0.070433,
     "end_time": "2022-05-04T08:47:10.244755",
     "exception": false,
     "start_time": "2022-05-04T08:47:10.174322",
     "status": "completed"
    },
    "tags": []
   },
   "outputs": [
    {
     "data": {
      "text/plain": [
       "(1338, 7)"
      ]
     },
     "execution_count": 5,
     "metadata": {},
     "output_type": "execute_result"
    }
   ],
   "source": [
    "data.shape"
   ]
  },
  {
   "cell_type": "code",
   "execution_count": 6,
   "id": "686b54bd",
   "metadata": {
    "execution": {
     "iopub.execute_input": "2022-05-04T08:47:10.365740Z",
     "iopub.status.busy": "2022-05-04T08:47:10.365378Z",
     "iopub.status.idle": "2022-05-04T08:47:10.371853Z",
     "shell.execute_reply": "2022-05-04T08:47:10.370782Z"
    },
    "papermill": {
     "duration": 0.07103,
     "end_time": "2022-05-04T08:47:10.376003",
     "exception": false,
     "start_time": "2022-05-04T08:47:10.304973",
     "status": "completed"
    },
    "tags": []
   },
   "outputs": [
    {
     "name": "stdout",
     "output_type": "stream",
     "text": [
      "Number of rows 1338\n",
      "Number of columns 7\n"
     ]
    }
   ],
   "source": [
    "print(\"Number of rows\", data.shape[0])\n",
    "print(\"Number of columns\", data.shape[1])"
   ]
  },
  {
   "cell_type": "markdown",
   "id": "17139af0",
   "metadata": {
    "papermill": {
     "duration": 0.05876,
     "end_time": "2022-05-04T08:47:10.495284",
     "exception": false,
     "start_time": "2022-05-04T08:47:10.436524",
     "status": "completed"
    },
    "tags": []
   },
   "source": [
    "# 4. Get Information About Our Dataset Like Total Number Rows, Total Number of Columns, Datatypes of Each Column And Memory Requirement"
   ]
  },
  {
   "cell_type": "code",
   "execution_count": 7,
   "id": "238df77c",
   "metadata": {
    "execution": {
     "iopub.execute_input": "2022-05-04T08:47:10.616205Z",
     "iopub.status.busy": "2022-05-04T08:47:10.615657Z",
     "iopub.status.idle": "2022-05-04T08:47:10.645049Z",
     "shell.execute_reply": "2022-05-04T08:47:10.644090Z"
    },
    "papermill": {
     "duration": 0.093239,
     "end_time": "2022-05-04T08:47:10.647571",
     "exception": false,
     "start_time": "2022-05-04T08:47:10.554332",
     "status": "completed"
    },
    "tags": []
   },
   "outputs": [
    {
     "name": "stdout",
     "output_type": "stream",
     "text": [
      "<class 'pandas.core.frame.DataFrame'>\n",
      "RangeIndex: 1338 entries, 0 to 1337\n",
      "Data columns (total 7 columns):\n",
      " #   Column    Non-Null Count  Dtype  \n",
      "---  ------    --------------  -----  \n",
      " 0   age       1338 non-null   int64  \n",
      " 1   sex       1338 non-null   object \n",
      " 2   bmi       1338 non-null   float64\n",
      " 3   children  1338 non-null   int64  \n",
      " 4   smoker    1338 non-null   object \n",
      " 5   region    1338 non-null   object \n",
      " 6   charges   1338 non-null   float64\n",
      "dtypes: float64(2), int64(2), object(3)\n",
      "memory usage: 73.3+ KB\n"
     ]
    }
   ],
   "source": [
    "data.info()"
   ]
  },
  {
   "cell_type": "markdown",
   "id": "0479465c",
   "metadata": {
    "papermill": {
     "duration": 0.059318,
     "end_time": "2022-05-04T08:47:10.767048",
     "exception": false,
     "start_time": "2022-05-04T08:47:10.707730",
     "status": "completed"
    },
    "tags": []
   },
   "source": [
    "# 5. Check Null Values In The Dataset"
   ]
  },
  {
   "cell_type": "code",
   "execution_count": 8,
   "id": "c6e448ae",
   "metadata": {
    "execution": {
     "iopub.execute_input": "2022-05-04T08:47:10.889853Z",
     "iopub.status.busy": "2022-05-04T08:47:10.889140Z",
     "iopub.status.idle": "2022-05-04T08:47:10.912594Z",
     "shell.execute_reply": "2022-05-04T08:47:10.911578Z"
    },
    "papermill": {
     "duration": 0.089216,
     "end_time": "2022-05-04T08:47:10.915224",
     "exception": false,
     "start_time": "2022-05-04T08:47:10.826008",
     "status": "completed"
    },
    "tags": []
   },
   "outputs": [
    {
     "data": {
      "text/html": [
       "<div>\n",
       "<style scoped>\n",
       "    .dataframe tbody tr th:only-of-type {\n",
       "        vertical-align: middle;\n",
       "    }\n",
       "\n",
       "    .dataframe tbody tr th {\n",
       "        vertical-align: top;\n",
       "    }\n",
       "\n",
       "    .dataframe thead th {\n",
       "        text-align: right;\n",
       "    }\n",
       "</style>\n",
       "<table border=\"1\" class=\"dataframe\">\n",
       "  <thead>\n",
       "    <tr style=\"text-align: right;\">\n",
       "      <th></th>\n",
       "      <th>age</th>\n",
       "      <th>sex</th>\n",
       "      <th>bmi</th>\n",
       "      <th>children</th>\n",
       "      <th>smoker</th>\n",
       "      <th>region</th>\n",
       "      <th>charges</th>\n",
       "    </tr>\n",
       "  </thead>\n",
       "  <tbody>\n",
       "    <tr>\n",
       "      <th>0</th>\n",
       "      <td>False</td>\n",
       "      <td>False</td>\n",
       "      <td>False</td>\n",
       "      <td>False</td>\n",
       "      <td>False</td>\n",
       "      <td>False</td>\n",
       "      <td>False</td>\n",
       "    </tr>\n",
       "    <tr>\n",
       "      <th>1</th>\n",
       "      <td>False</td>\n",
       "      <td>False</td>\n",
       "      <td>False</td>\n",
       "      <td>False</td>\n",
       "      <td>False</td>\n",
       "      <td>False</td>\n",
       "      <td>False</td>\n",
       "    </tr>\n",
       "    <tr>\n",
       "      <th>2</th>\n",
       "      <td>False</td>\n",
       "      <td>False</td>\n",
       "      <td>False</td>\n",
       "      <td>False</td>\n",
       "      <td>False</td>\n",
       "      <td>False</td>\n",
       "      <td>False</td>\n",
       "    </tr>\n",
       "    <tr>\n",
       "      <th>3</th>\n",
       "      <td>False</td>\n",
       "      <td>False</td>\n",
       "      <td>False</td>\n",
       "      <td>False</td>\n",
       "      <td>False</td>\n",
       "      <td>False</td>\n",
       "      <td>False</td>\n",
       "    </tr>\n",
       "    <tr>\n",
       "      <th>4</th>\n",
       "      <td>False</td>\n",
       "      <td>False</td>\n",
       "      <td>False</td>\n",
       "      <td>False</td>\n",
       "      <td>False</td>\n",
       "      <td>False</td>\n",
       "      <td>False</td>\n",
       "    </tr>\n",
       "    <tr>\n",
       "      <th>...</th>\n",
       "      <td>...</td>\n",
       "      <td>...</td>\n",
       "      <td>...</td>\n",
       "      <td>...</td>\n",
       "      <td>...</td>\n",
       "      <td>...</td>\n",
       "      <td>...</td>\n",
       "    </tr>\n",
       "    <tr>\n",
       "      <th>1333</th>\n",
       "      <td>False</td>\n",
       "      <td>False</td>\n",
       "      <td>False</td>\n",
       "      <td>False</td>\n",
       "      <td>False</td>\n",
       "      <td>False</td>\n",
       "      <td>False</td>\n",
       "    </tr>\n",
       "    <tr>\n",
       "      <th>1334</th>\n",
       "      <td>False</td>\n",
       "      <td>False</td>\n",
       "      <td>False</td>\n",
       "      <td>False</td>\n",
       "      <td>False</td>\n",
       "      <td>False</td>\n",
       "      <td>False</td>\n",
       "    </tr>\n",
       "    <tr>\n",
       "      <th>1335</th>\n",
       "      <td>False</td>\n",
       "      <td>False</td>\n",
       "      <td>False</td>\n",
       "      <td>False</td>\n",
       "      <td>False</td>\n",
       "      <td>False</td>\n",
       "      <td>False</td>\n",
       "    </tr>\n",
       "    <tr>\n",
       "      <th>1336</th>\n",
       "      <td>False</td>\n",
       "      <td>False</td>\n",
       "      <td>False</td>\n",
       "      <td>False</td>\n",
       "      <td>False</td>\n",
       "      <td>False</td>\n",
       "      <td>False</td>\n",
       "    </tr>\n",
       "    <tr>\n",
       "      <th>1337</th>\n",
       "      <td>False</td>\n",
       "      <td>False</td>\n",
       "      <td>False</td>\n",
       "      <td>False</td>\n",
       "      <td>False</td>\n",
       "      <td>False</td>\n",
       "      <td>False</td>\n",
       "    </tr>\n",
       "  </tbody>\n",
       "</table>\n",
       "<p>1338 rows × 7 columns</p>\n",
       "</div>"
      ],
      "text/plain": [
       "        age    sex    bmi  children  smoker  region  charges\n",
       "0     False  False  False     False   False   False    False\n",
       "1     False  False  False     False   False   False    False\n",
       "2     False  False  False     False   False   False    False\n",
       "3     False  False  False     False   False   False    False\n",
       "4     False  False  False     False   False   False    False\n",
       "...     ...    ...    ...       ...     ...     ...      ...\n",
       "1333  False  False  False     False   False   False    False\n",
       "1334  False  False  False     False   False   False    False\n",
       "1335  False  False  False     False   False   False    False\n",
       "1336  False  False  False     False   False   False    False\n",
       "1337  False  False  False     False   False   False    False\n",
       "\n",
       "[1338 rows x 7 columns]"
      ]
     },
     "execution_count": 8,
     "metadata": {},
     "output_type": "execute_result"
    }
   ],
   "source": [
    "data.isnull()"
   ]
  },
  {
   "cell_type": "code",
   "execution_count": 9,
   "id": "e1f0c463",
   "metadata": {
    "execution": {
     "iopub.execute_input": "2022-05-04T08:47:11.039893Z",
     "iopub.status.busy": "2022-05-04T08:47:11.039097Z",
     "iopub.status.idle": "2022-05-04T08:47:11.048187Z",
     "shell.execute_reply": "2022-05-04T08:47:11.047506Z"
    },
    "papermill": {
     "duration": 0.073125,
     "end_time": "2022-05-04T08:47:11.050146",
     "exception": false,
     "start_time": "2022-05-04T08:47:10.977021",
     "status": "completed"
    },
    "tags": []
   },
   "outputs": [
    {
     "data": {
      "text/plain": [
       "age         0\n",
       "sex         0\n",
       "bmi         0\n",
       "children    0\n",
       "smoker      0\n",
       "region      0\n",
       "charges     0\n",
       "dtype: int64"
      ]
     },
     "execution_count": 9,
     "metadata": {},
     "output_type": "execute_result"
    }
   ],
   "source": [
    "data.isnull().sum()"
   ]
  },
  {
   "cell_type": "markdown",
   "id": "7348185f",
   "metadata": {
    "papermill": {
     "duration": 0.060221,
     "end_time": "2022-05-04T08:47:11.171653",
     "exception": false,
     "start_time": "2022-05-04T08:47:11.111432",
     "status": "completed"
    },
    "tags": []
   },
   "source": [
    "# 6. Get Overall Statistics About The Dataset"
   ]
  },
  {
   "cell_type": "code",
   "execution_count": 10,
   "id": "15019a4e",
   "metadata": {
    "execution": {
     "iopub.execute_input": "2022-05-04T08:47:11.295831Z",
     "iopub.status.busy": "2022-05-04T08:47:11.294926Z",
     "iopub.status.idle": "2022-05-04T08:47:11.325153Z",
     "shell.execute_reply": "2022-05-04T08:47:11.324144Z"
    },
    "papermill": {
     "duration": 0.095113,
     "end_time": "2022-05-04T08:47:11.327650",
     "exception": false,
     "start_time": "2022-05-04T08:47:11.232537",
     "status": "completed"
    },
    "tags": []
   },
   "outputs": [
    {
     "data": {
      "text/html": [
       "<div>\n",
       "<style scoped>\n",
       "    .dataframe tbody tr th:only-of-type {\n",
       "        vertical-align: middle;\n",
       "    }\n",
       "\n",
       "    .dataframe tbody tr th {\n",
       "        vertical-align: top;\n",
       "    }\n",
       "\n",
       "    .dataframe thead th {\n",
       "        text-align: right;\n",
       "    }\n",
       "</style>\n",
       "<table border=\"1\" class=\"dataframe\">\n",
       "  <thead>\n",
       "    <tr style=\"text-align: right;\">\n",
       "      <th></th>\n",
       "      <th>age</th>\n",
       "      <th>bmi</th>\n",
       "      <th>children</th>\n",
       "      <th>charges</th>\n",
       "    </tr>\n",
       "  </thead>\n",
       "  <tbody>\n",
       "    <tr>\n",
       "      <th>count</th>\n",
       "      <td>1338.000000</td>\n",
       "      <td>1338.000000</td>\n",
       "      <td>1338.000000</td>\n",
       "      <td>1338.000000</td>\n",
       "    </tr>\n",
       "    <tr>\n",
       "      <th>mean</th>\n",
       "      <td>39.207025</td>\n",
       "      <td>30.663397</td>\n",
       "      <td>1.094918</td>\n",
       "      <td>13270.422265</td>\n",
       "    </tr>\n",
       "    <tr>\n",
       "      <th>std</th>\n",
       "      <td>14.049960</td>\n",
       "      <td>6.098187</td>\n",
       "      <td>1.205493</td>\n",
       "      <td>12110.011237</td>\n",
       "    </tr>\n",
       "    <tr>\n",
       "      <th>min</th>\n",
       "      <td>18.000000</td>\n",
       "      <td>15.960000</td>\n",
       "      <td>0.000000</td>\n",
       "      <td>1121.873900</td>\n",
       "    </tr>\n",
       "    <tr>\n",
       "      <th>25%</th>\n",
       "      <td>27.000000</td>\n",
       "      <td>26.296250</td>\n",
       "      <td>0.000000</td>\n",
       "      <td>4740.287150</td>\n",
       "    </tr>\n",
       "    <tr>\n",
       "      <th>50%</th>\n",
       "      <td>39.000000</td>\n",
       "      <td>30.400000</td>\n",
       "      <td>1.000000</td>\n",
       "      <td>9382.033000</td>\n",
       "    </tr>\n",
       "    <tr>\n",
       "      <th>75%</th>\n",
       "      <td>51.000000</td>\n",
       "      <td>34.693750</td>\n",
       "      <td>2.000000</td>\n",
       "      <td>16639.912515</td>\n",
       "    </tr>\n",
       "    <tr>\n",
       "      <th>max</th>\n",
       "      <td>64.000000</td>\n",
       "      <td>53.130000</td>\n",
       "      <td>5.000000</td>\n",
       "      <td>63770.428010</td>\n",
       "    </tr>\n",
       "  </tbody>\n",
       "</table>\n",
       "</div>"
      ],
      "text/plain": [
       "               age          bmi     children       charges\n",
       "count  1338.000000  1338.000000  1338.000000   1338.000000\n",
       "mean     39.207025    30.663397     1.094918  13270.422265\n",
       "std      14.049960     6.098187     1.205493  12110.011237\n",
       "min      18.000000    15.960000     0.000000   1121.873900\n",
       "25%      27.000000    26.296250     0.000000   4740.287150\n",
       "50%      39.000000    30.400000     1.000000   9382.033000\n",
       "75%      51.000000    34.693750     2.000000  16639.912515\n",
       "max      64.000000    53.130000     5.000000  63770.428010"
      ]
     },
     "execution_count": 10,
     "metadata": {},
     "output_type": "execute_result"
    }
   ],
   "source": [
    "data.describe()"
   ]
  },
  {
   "cell_type": "code",
   "execution_count": 11,
   "id": "91351dad",
   "metadata": {
    "execution": {
     "iopub.execute_input": "2022-05-04T08:47:11.454866Z",
     "iopub.status.busy": "2022-05-04T08:47:11.454213Z",
     "iopub.status.idle": "2022-05-04T08:47:11.485177Z",
     "shell.execute_reply": "2022-05-04T08:47:11.484352Z"
    },
    "papermill": {
     "duration": 0.096165,
     "end_time": "2022-05-04T08:47:11.487230",
     "exception": false,
     "start_time": "2022-05-04T08:47:11.391065",
     "status": "completed"
    },
    "tags": []
   },
   "outputs": [
    {
     "data": {
      "text/html": [
       "<div>\n",
       "<style scoped>\n",
       "    .dataframe tbody tr th:only-of-type {\n",
       "        vertical-align: middle;\n",
       "    }\n",
       "\n",
       "    .dataframe tbody tr th {\n",
       "        vertical-align: top;\n",
       "    }\n",
       "\n",
       "    .dataframe thead th {\n",
       "        text-align: right;\n",
       "    }\n",
       "</style>\n",
       "<table border=\"1\" class=\"dataframe\">\n",
       "  <thead>\n",
       "    <tr style=\"text-align: right;\">\n",
       "      <th></th>\n",
       "      <th>age</th>\n",
       "      <th>sex</th>\n",
       "      <th>bmi</th>\n",
       "      <th>children</th>\n",
       "      <th>smoker</th>\n",
       "      <th>region</th>\n",
       "      <th>charges</th>\n",
       "    </tr>\n",
       "  </thead>\n",
       "  <tbody>\n",
       "    <tr>\n",
       "      <th>count</th>\n",
       "      <td>1338.000000</td>\n",
       "      <td>1338</td>\n",
       "      <td>1338.000000</td>\n",
       "      <td>1338.000000</td>\n",
       "      <td>1338</td>\n",
       "      <td>1338</td>\n",
       "      <td>1338.000000</td>\n",
       "    </tr>\n",
       "    <tr>\n",
       "      <th>unique</th>\n",
       "      <td>NaN</td>\n",
       "      <td>2</td>\n",
       "      <td>NaN</td>\n",
       "      <td>NaN</td>\n",
       "      <td>2</td>\n",
       "      <td>4</td>\n",
       "      <td>NaN</td>\n",
       "    </tr>\n",
       "    <tr>\n",
       "      <th>top</th>\n",
       "      <td>NaN</td>\n",
       "      <td>male</td>\n",
       "      <td>NaN</td>\n",
       "      <td>NaN</td>\n",
       "      <td>no</td>\n",
       "      <td>southeast</td>\n",
       "      <td>NaN</td>\n",
       "    </tr>\n",
       "    <tr>\n",
       "      <th>freq</th>\n",
       "      <td>NaN</td>\n",
       "      <td>676</td>\n",
       "      <td>NaN</td>\n",
       "      <td>NaN</td>\n",
       "      <td>1064</td>\n",
       "      <td>364</td>\n",
       "      <td>NaN</td>\n",
       "    </tr>\n",
       "    <tr>\n",
       "      <th>mean</th>\n",
       "      <td>39.207025</td>\n",
       "      <td>NaN</td>\n",
       "      <td>30.663397</td>\n",
       "      <td>1.094918</td>\n",
       "      <td>NaN</td>\n",
       "      <td>NaN</td>\n",
       "      <td>13270.422265</td>\n",
       "    </tr>\n",
       "    <tr>\n",
       "      <th>std</th>\n",
       "      <td>14.049960</td>\n",
       "      <td>NaN</td>\n",
       "      <td>6.098187</td>\n",
       "      <td>1.205493</td>\n",
       "      <td>NaN</td>\n",
       "      <td>NaN</td>\n",
       "      <td>12110.011237</td>\n",
       "    </tr>\n",
       "    <tr>\n",
       "      <th>min</th>\n",
       "      <td>18.000000</td>\n",
       "      <td>NaN</td>\n",
       "      <td>15.960000</td>\n",
       "      <td>0.000000</td>\n",
       "      <td>NaN</td>\n",
       "      <td>NaN</td>\n",
       "      <td>1121.873900</td>\n",
       "    </tr>\n",
       "    <tr>\n",
       "      <th>25%</th>\n",
       "      <td>27.000000</td>\n",
       "      <td>NaN</td>\n",
       "      <td>26.296250</td>\n",
       "      <td>0.000000</td>\n",
       "      <td>NaN</td>\n",
       "      <td>NaN</td>\n",
       "      <td>4740.287150</td>\n",
       "    </tr>\n",
       "    <tr>\n",
       "      <th>50%</th>\n",
       "      <td>39.000000</td>\n",
       "      <td>NaN</td>\n",
       "      <td>30.400000</td>\n",
       "      <td>1.000000</td>\n",
       "      <td>NaN</td>\n",
       "      <td>NaN</td>\n",
       "      <td>9382.033000</td>\n",
       "    </tr>\n",
       "    <tr>\n",
       "      <th>75%</th>\n",
       "      <td>51.000000</td>\n",
       "      <td>NaN</td>\n",
       "      <td>34.693750</td>\n",
       "      <td>2.000000</td>\n",
       "      <td>NaN</td>\n",
       "      <td>NaN</td>\n",
       "      <td>16639.912515</td>\n",
       "    </tr>\n",
       "    <tr>\n",
       "      <th>max</th>\n",
       "      <td>64.000000</td>\n",
       "      <td>NaN</td>\n",
       "      <td>53.130000</td>\n",
       "      <td>5.000000</td>\n",
       "      <td>NaN</td>\n",
       "      <td>NaN</td>\n",
       "      <td>63770.428010</td>\n",
       "    </tr>\n",
       "  </tbody>\n",
       "</table>\n",
       "</div>"
      ],
      "text/plain": [
       "                age   sex          bmi     children smoker     region  \\\n",
       "count   1338.000000  1338  1338.000000  1338.000000   1338       1338   \n",
       "unique          NaN     2          NaN          NaN      2          4   \n",
       "top             NaN  male          NaN          NaN     no  southeast   \n",
       "freq            NaN   676          NaN          NaN   1064        364   \n",
       "mean      39.207025   NaN    30.663397     1.094918    NaN        NaN   \n",
       "std       14.049960   NaN     6.098187     1.205493    NaN        NaN   \n",
       "min       18.000000   NaN    15.960000     0.000000    NaN        NaN   \n",
       "25%       27.000000   NaN    26.296250     0.000000    NaN        NaN   \n",
       "50%       39.000000   NaN    30.400000     1.000000    NaN        NaN   \n",
       "75%       51.000000   NaN    34.693750     2.000000    NaN        NaN   \n",
       "max       64.000000   NaN    53.130000     5.000000    NaN        NaN   \n",
       "\n",
       "             charges  \n",
       "count    1338.000000  \n",
       "unique           NaN  \n",
       "top              NaN  \n",
       "freq             NaN  \n",
       "mean    13270.422265  \n",
       "std     12110.011237  \n",
       "min      1121.873900  \n",
       "25%      4740.287150  \n",
       "50%      9382.033000  \n",
       "75%     16639.912515  \n",
       "max     63770.428010  "
      ]
     },
     "execution_count": 11,
     "metadata": {},
     "output_type": "execute_result"
    }
   ],
   "source": [
    "# if we want to include statistics of numerical as well as categorical values then\n",
    "data.describe(include='all')"
   ]
  },
  {
   "cell_type": "markdown",
   "id": "f4590682",
   "metadata": {
    "papermill": {
     "duration": 0.063174,
     "end_time": "2022-05-04T08:47:11.613549",
     "exception": false,
     "start_time": "2022-05-04T08:47:11.550375",
     "status": "completed"
    },
    "tags": []
   },
   "source": [
    "# 7. Covert Columns From String ['sex','smoker', 'region' ] To Numerical Values"
   ]
  },
  {
   "cell_type": "code",
   "execution_count": 12,
   "id": "bbdf2c31",
   "metadata": {
    "execution": {
     "iopub.execute_input": "2022-05-04T08:47:11.741070Z",
     "iopub.status.busy": "2022-05-04T08:47:11.740678Z",
     "iopub.status.idle": "2022-05-04T08:47:11.756126Z",
     "shell.execute_reply": "2022-05-04T08:47:11.755174Z"
    },
    "papermill": {
     "duration": 0.082065,
     "end_time": "2022-05-04T08:47:11.758462",
     "exception": false,
     "start_time": "2022-05-04T08:47:11.676397",
     "status": "completed"
    },
    "tags": []
   },
   "outputs": [
    {
     "data": {
      "text/html": [
       "<div>\n",
       "<style scoped>\n",
       "    .dataframe tbody tr th:only-of-type {\n",
       "        vertical-align: middle;\n",
       "    }\n",
       "\n",
       "    .dataframe tbody tr th {\n",
       "        vertical-align: top;\n",
       "    }\n",
       "\n",
       "    .dataframe thead th {\n",
       "        text-align: right;\n",
       "    }\n",
       "</style>\n",
       "<table border=\"1\" class=\"dataframe\">\n",
       "  <thead>\n",
       "    <tr style=\"text-align: right;\">\n",
       "      <th></th>\n",
       "      <th>age</th>\n",
       "      <th>sex</th>\n",
       "      <th>bmi</th>\n",
       "      <th>children</th>\n",
       "      <th>smoker</th>\n",
       "      <th>region</th>\n",
       "      <th>charges</th>\n",
       "    </tr>\n",
       "  </thead>\n",
       "  <tbody>\n",
       "    <tr>\n",
       "      <th>0</th>\n",
       "      <td>19</td>\n",
       "      <td>female</td>\n",
       "      <td>27.90</td>\n",
       "      <td>0</td>\n",
       "      <td>yes</td>\n",
       "      <td>southwest</td>\n",
       "      <td>16884.9240</td>\n",
       "    </tr>\n",
       "    <tr>\n",
       "      <th>1</th>\n",
       "      <td>18</td>\n",
       "      <td>male</td>\n",
       "      <td>33.77</td>\n",
       "      <td>1</td>\n",
       "      <td>no</td>\n",
       "      <td>southeast</td>\n",
       "      <td>1725.5523</td>\n",
       "    </tr>\n",
       "  </tbody>\n",
       "</table>\n",
       "</div>"
      ],
      "text/plain": [
       "   age     sex    bmi  children smoker     region     charges\n",
       "0   19  female  27.90         0    yes  southwest  16884.9240\n",
       "1   18    male  33.77         1     no  southeast   1725.5523"
      ]
     },
     "execution_count": 12,
     "metadata": {},
     "output_type": "execute_result"
    }
   ],
   "source": [
    "# basically here we are converting categorical value to numerical value\n",
    "data.head(2)"
   ]
  },
  {
   "cell_type": "code",
   "execution_count": 13,
   "id": "6918aff8",
   "metadata": {
    "execution": {
     "iopub.execute_input": "2022-05-04T08:47:11.891261Z",
     "iopub.status.busy": "2022-05-04T08:47:11.890886Z",
     "iopub.status.idle": "2022-05-04T08:47:11.898728Z",
     "shell.execute_reply": "2022-05-04T08:47:11.897622Z"
    },
    "papermill": {
     "duration": 0.077055,
     "end_time": "2022-05-04T08:47:11.901040",
     "exception": false,
     "start_time": "2022-05-04T08:47:11.823985",
     "status": "completed"
    },
    "tags": []
   },
   "outputs": [
    {
     "data": {
      "text/plain": [
       "array(['female', 'male'], dtype=object)"
      ]
     },
     "execution_count": 13,
     "metadata": {},
     "output_type": "execute_result"
    }
   ],
   "source": [
    "data['sex'].unique()"
   ]
  },
  {
   "cell_type": "code",
   "execution_count": 14,
   "id": "6a755af2",
   "metadata": {
    "execution": {
     "iopub.execute_input": "2022-05-04T08:47:12.029781Z",
     "iopub.status.busy": "2022-05-04T08:47:12.028936Z",
     "iopub.status.idle": "2022-05-04T08:47:12.037740Z",
     "shell.execute_reply": "2022-05-04T08:47:12.036583Z"
    },
    "papermill": {
     "duration": 0.075732,
     "end_time": "2022-05-04T08:47:12.040400",
     "exception": false,
     "start_time": "2022-05-04T08:47:11.964668",
     "status": "completed"
    },
    "tags": []
   },
   "outputs": [],
   "source": [
    "data['sex']=data['sex'].map({'female':0,'male':1})"
   ]
  },
  {
   "cell_type": "code",
   "execution_count": 15,
   "id": "eeb4f332",
   "metadata": {
    "execution": {
     "iopub.execute_input": "2022-05-04T08:47:12.170280Z",
     "iopub.status.busy": "2022-05-04T08:47:12.169884Z",
     "iopub.status.idle": "2022-05-04T08:47:12.185406Z",
     "shell.execute_reply": "2022-05-04T08:47:12.184760Z"
    },
    "papermill": {
     "duration": 0.082026,
     "end_time": "2022-05-04T08:47:12.187693",
     "exception": false,
     "start_time": "2022-05-04T08:47:12.105667",
     "status": "completed"
    },
    "tags": []
   },
   "outputs": [
    {
     "data": {
      "text/html": [
       "<div>\n",
       "<style scoped>\n",
       "    .dataframe tbody tr th:only-of-type {\n",
       "        vertical-align: middle;\n",
       "    }\n",
       "\n",
       "    .dataframe tbody tr th {\n",
       "        vertical-align: top;\n",
       "    }\n",
       "\n",
       "    .dataframe thead th {\n",
       "        text-align: right;\n",
       "    }\n",
       "</style>\n",
       "<table border=\"1\" class=\"dataframe\">\n",
       "  <thead>\n",
       "    <tr style=\"text-align: right;\">\n",
       "      <th></th>\n",
       "      <th>age</th>\n",
       "      <th>sex</th>\n",
       "      <th>bmi</th>\n",
       "      <th>children</th>\n",
       "      <th>smoker</th>\n",
       "      <th>region</th>\n",
       "      <th>charges</th>\n",
       "    </tr>\n",
       "  </thead>\n",
       "  <tbody>\n",
       "    <tr>\n",
       "      <th>0</th>\n",
       "      <td>19</td>\n",
       "      <td>0</td>\n",
       "      <td>27.900</td>\n",
       "      <td>0</td>\n",
       "      <td>yes</td>\n",
       "      <td>southwest</td>\n",
       "      <td>16884.92400</td>\n",
       "    </tr>\n",
       "    <tr>\n",
       "      <th>1</th>\n",
       "      <td>18</td>\n",
       "      <td>1</td>\n",
       "      <td>33.770</td>\n",
       "      <td>1</td>\n",
       "      <td>no</td>\n",
       "      <td>southeast</td>\n",
       "      <td>1725.55230</td>\n",
       "    </tr>\n",
       "    <tr>\n",
       "      <th>2</th>\n",
       "      <td>28</td>\n",
       "      <td>1</td>\n",
       "      <td>33.000</td>\n",
       "      <td>3</td>\n",
       "      <td>no</td>\n",
       "      <td>southeast</td>\n",
       "      <td>4449.46200</td>\n",
       "    </tr>\n",
       "    <tr>\n",
       "      <th>3</th>\n",
       "      <td>33</td>\n",
       "      <td>1</td>\n",
       "      <td>22.705</td>\n",
       "      <td>0</td>\n",
       "      <td>no</td>\n",
       "      <td>northwest</td>\n",
       "      <td>21984.47061</td>\n",
       "    </tr>\n",
       "    <tr>\n",
       "      <th>4</th>\n",
       "      <td>32</td>\n",
       "      <td>1</td>\n",
       "      <td>28.880</td>\n",
       "      <td>0</td>\n",
       "      <td>no</td>\n",
       "      <td>northwest</td>\n",
       "      <td>3866.85520</td>\n",
       "    </tr>\n",
       "    <tr>\n",
       "      <th>5</th>\n",
       "      <td>31</td>\n",
       "      <td>0</td>\n",
       "      <td>25.740</td>\n",
       "      <td>0</td>\n",
       "      <td>no</td>\n",
       "      <td>southeast</td>\n",
       "      <td>3756.62160</td>\n",
       "    </tr>\n",
       "    <tr>\n",
       "      <th>6</th>\n",
       "      <td>46</td>\n",
       "      <td>0</td>\n",
       "      <td>33.440</td>\n",
       "      <td>1</td>\n",
       "      <td>no</td>\n",
       "      <td>southeast</td>\n",
       "      <td>8240.58960</td>\n",
       "    </tr>\n",
       "    <tr>\n",
       "      <th>7</th>\n",
       "      <td>37</td>\n",
       "      <td>0</td>\n",
       "      <td>27.740</td>\n",
       "      <td>3</td>\n",
       "      <td>no</td>\n",
       "      <td>northwest</td>\n",
       "      <td>7281.50560</td>\n",
       "    </tr>\n",
       "    <tr>\n",
       "      <th>8</th>\n",
       "      <td>37</td>\n",
       "      <td>1</td>\n",
       "      <td>29.830</td>\n",
       "      <td>2</td>\n",
       "      <td>no</td>\n",
       "      <td>northeast</td>\n",
       "      <td>6406.41070</td>\n",
       "    </tr>\n",
       "    <tr>\n",
       "      <th>9</th>\n",
       "      <td>60</td>\n",
       "      <td>0</td>\n",
       "      <td>25.840</td>\n",
       "      <td>0</td>\n",
       "      <td>no</td>\n",
       "      <td>northwest</td>\n",
       "      <td>28923.13692</td>\n",
       "    </tr>\n",
       "  </tbody>\n",
       "</table>\n",
       "</div>"
      ],
      "text/plain": [
       "   age  sex     bmi  children smoker     region      charges\n",
       "0   19    0  27.900         0    yes  southwest  16884.92400\n",
       "1   18    1  33.770         1     no  southeast   1725.55230\n",
       "2   28    1  33.000         3     no  southeast   4449.46200\n",
       "3   33    1  22.705         0     no  northwest  21984.47061\n",
       "4   32    1  28.880         0     no  northwest   3866.85520\n",
       "5   31    0  25.740         0     no  southeast   3756.62160\n",
       "6   46    0  33.440         1     no  southeast   8240.58960\n",
       "7   37    0  27.740         3     no  northwest   7281.50560\n",
       "8   37    1  29.830         2     no  northeast   6406.41070\n",
       "9   60    0  25.840         0     no  northwest  28923.13692"
      ]
     },
     "execution_count": 15,
     "metadata": {},
     "output_type": "execute_result"
    }
   ],
   "source": [
    "data.head(10)"
   ]
  },
  {
   "cell_type": "code",
   "execution_count": 16,
   "id": "c899e840",
   "metadata": {
    "execution": {
     "iopub.execute_input": "2022-05-04T08:47:12.317144Z",
     "iopub.status.busy": "2022-05-04T08:47:12.316127Z",
     "iopub.status.idle": "2022-05-04T08:47:12.324162Z",
     "shell.execute_reply": "2022-05-04T08:47:12.323021Z"
    },
    "papermill": {
     "duration": 0.075521,
     "end_time": "2022-05-04T08:47:12.326961",
     "exception": false,
     "start_time": "2022-05-04T08:47:12.251440",
     "status": "completed"
    },
    "tags": []
   },
   "outputs": [],
   "source": [
    "data['smoker']=data['smoker'].map({'yes':1,'no':0})"
   ]
  },
  {
   "cell_type": "code",
   "execution_count": 17,
   "id": "aae6890c",
   "metadata": {
    "execution": {
     "iopub.execute_input": "2022-05-04T08:47:12.460440Z",
     "iopub.status.busy": "2022-05-04T08:47:12.459813Z",
     "iopub.status.idle": "2022-05-04T08:47:12.474066Z",
     "shell.execute_reply": "2022-05-04T08:47:12.473275Z"
    },
    "papermill": {
     "duration": 0.084111,
     "end_time": "2022-05-04T08:47:12.476170",
     "exception": false,
     "start_time": "2022-05-04T08:47:12.392059",
     "status": "completed"
    },
    "tags": []
   },
   "outputs": [
    {
     "data": {
      "text/html": [
       "<div>\n",
       "<style scoped>\n",
       "    .dataframe tbody tr th:only-of-type {\n",
       "        vertical-align: middle;\n",
       "    }\n",
       "\n",
       "    .dataframe tbody tr th {\n",
       "        vertical-align: top;\n",
       "    }\n",
       "\n",
       "    .dataframe thead th {\n",
       "        text-align: right;\n",
       "    }\n",
       "</style>\n",
       "<table border=\"1\" class=\"dataframe\">\n",
       "  <thead>\n",
       "    <tr style=\"text-align: right;\">\n",
       "      <th></th>\n",
       "      <th>age</th>\n",
       "      <th>sex</th>\n",
       "      <th>bmi</th>\n",
       "      <th>children</th>\n",
       "      <th>smoker</th>\n",
       "      <th>region</th>\n",
       "      <th>charges</th>\n",
       "    </tr>\n",
       "  </thead>\n",
       "  <tbody>\n",
       "    <tr>\n",
       "      <th>0</th>\n",
       "      <td>19</td>\n",
       "      <td>0</td>\n",
       "      <td>27.900</td>\n",
       "      <td>0</td>\n",
       "      <td>1</td>\n",
       "      <td>southwest</td>\n",
       "      <td>16884.92400</td>\n",
       "    </tr>\n",
       "    <tr>\n",
       "      <th>1</th>\n",
       "      <td>18</td>\n",
       "      <td>1</td>\n",
       "      <td>33.770</td>\n",
       "      <td>1</td>\n",
       "      <td>0</td>\n",
       "      <td>southeast</td>\n",
       "      <td>1725.55230</td>\n",
       "    </tr>\n",
       "    <tr>\n",
       "      <th>2</th>\n",
       "      <td>28</td>\n",
       "      <td>1</td>\n",
       "      <td>33.000</td>\n",
       "      <td>3</td>\n",
       "      <td>0</td>\n",
       "      <td>southeast</td>\n",
       "      <td>4449.46200</td>\n",
       "    </tr>\n",
       "    <tr>\n",
       "      <th>3</th>\n",
       "      <td>33</td>\n",
       "      <td>1</td>\n",
       "      <td>22.705</td>\n",
       "      <td>0</td>\n",
       "      <td>0</td>\n",
       "      <td>northwest</td>\n",
       "      <td>21984.47061</td>\n",
       "    </tr>\n",
       "    <tr>\n",
       "      <th>4</th>\n",
       "      <td>32</td>\n",
       "      <td>1</td>\n",
       "      <td>28.880</td>\n",
       "      <td>0</td>\n",
       "      <td>0</td>\n",
       "      <td>northwest</td>\n",
       "      <td>3866.85520</td>\n",
       "    </tr>\n",
       "    <tr>\n",
       "      <th>5</th>\n",
       "      <td>31</td>\n",
       "      <td>0</td>\n",
       "      <td>25.740</td>\n",
       "      <td>0</td>\n",
       "      <td>0</td>\n",
       "      <td>southeast</td>\n",
       "      <td>3756.62160</td>\n",
       "    </tr>\n",
       "    <tr>\n",
       "      <th>6</th>\n",
       "      <td>46</td>\n",
       "      <td>0</td>\n",
       "      <td>33.440</td>\n",
       "      <td>1</td>\n",
       "      <td>0</td>\n",
       "      <td>southeast</td>\n",
       "      <td>8240.58960</td>\n",
       "    </tr>\n",
       "    <tr>\n",
       "      <th>7</th>\n",
       "      <td>37</td>\n",
       "      <td>0</td>\n",
       "      <td>27.740</td>\n",
       "      <td>3</td>\n",
       "      <td>0</td>\n",
       "      <td>northwest</td>\n",
       "      <td>7281.50560</td>\n",
       "    </tr>\n",
       "    <tr>\n",
       "      <th>8</th>\n",
       "      <td>37</td>\n",
       "      <td>1</td>\n",
       "      <td>29.830</td>\n",
       "      <td>2</td>\n",
       "      <td>0</td>\n",
       "      <td>northeast</td>\n",
       "      <td>6406.41070</td>\n",
       "    </tr>\n",
       "    <tr>\n",
       "      <th>9</th>\n",
       "      <td>60</td>\n",
       "      <td>0</td>\n",
       "      <td>25.840</td>\n",
       "      <td>0</td>\n",
       "      <td>0</td>\n",
       "      <td>northwest</td>\n",
       "      <td>28923.13692</td>\n",
       "    </tr>\n",
       "  </tbody>\n",
       "</table>\n",
       "</div>"
      ],
      "text/plain": [
       "   age  sex     bmi  children  smoker     region      charges\n",
       "0   19    0  27.900         0       1  southwest  16884.92400\n",
       "1   18    1  33.770         1       0  southeast   1725.55230\n",
       "2   28    1  33.000         3       0  southeast   4449.46200\n",
       "3   33    1  22.705         0       0  northwest  21984.47061\n",
       "4   32    1  28.880         0       0  northwest   3866.85520\n",
       "5   31    0  25.740         0       0  southeast   3756.62160\n",
       "6   46    0  33.440         1       0  southeast   8240.58960\n",
       "7   37    0  27.740         3       0  northwest   7281.50560\n",
       "8   37    1  29.830         2       0  northeast   6406.41070\n",
       "9   60    0  25.840         0       0  northwest  28923.13692"
      ]
     },
     "execution_count": 17,
     "metadata": {},
     "output_type": "execute_result"
    }
   ],
   "source": [
    "data.head(10)"
   ]
  },
  {
   "cell_type": "code",
   "execution_count": 18,
   "id": "a4737a7b",
   "metadata": {
    "execution": {
     "iopub.execute_input": "2022-05-04T08:47:12.605661Z",
     "iopub.status.busy": "2022-05-04T08:47:12.605296Z",
     "iopub.status.idle": "2022-05-04T08:47:12.613165Z",
     "shell.execute_reply": "2022-05-04T08:47:12.612143Z"
    },
    "papermill": {
     "duration": 0.07534,
     "end_time": "2022-05-04T08:47:12.615148",
     "exception": false,
     "start_time": "2022-05-04T08:47:12.539808",
     "status": "completed"
    },
    "tags": []
   },
   "outputs": [
    {
     "data": {
      "text/plain": [
       "array(['southwest', 'southeast', 'northwest', 'northeast'], dtype=object)"
      ]
     },
     "execution_count": 18,
     "metadata": {},
     "output_type": "execute_result"
    }
   ],
   "source": [
    "data['region'].unique()"
   ]
  },
  {
   "cell_type": "code",
   "execution_count": 19,
   "id": "20351d2c",
   "metadata": {
    "execution": {
     "iopub.execute_input": "2022-05-04T08:47:12.747797Z",
     "iopub.status.busy": "2022-05-04T08:47:12.746732Z",
     "iopub.status.idle": "2022-05-04T08:47:12.754337Z",
     "shell.execute_reply": "2022-05-04T08:47:12.753594Z"
    },
    "papermill": {
     "duration": 0.076774,
     "end_time": "2022-05-04T08:47:12.756829",
     "exception": false,
     "start_time": "2022-05-04T08:47:12.680055",
     "status": "completed"
    },
    "tags": []
   },
   "outputs": [],
   "source": [
    "data['region']=data['region'].map({'southwest':1,'southeast':2,'northwest':3,'northeast':4})"
   ]
  },
  {
   "cell_type": "code",
   "execution_count": 20,
   "id": "b2919dac",
   "metadata": {
    "execution": {
     "iopub.execute_input": "2022-05-04T08:47:12.890030Z",
     "iopub.status.busy": "2022-05-04T08:47:12.889426Z",
     "iopub.status.idle": "2022-05-04T08:47:12.902264Z",
     "shell.execute_reply": "2022-05-04T08:47:12.901371Z"
    },
    "papermill": {
     "duration": 0.082824,
     "end_time": "2022-05-04T08:47:12.904556",
     "exception": false,
     "start_time": "2022-05-04T08:47:12.821732",
     "status": "completed"
    },
    "tags": []
   },
   "outputs": [
    {
     "data": {
      "text/html": [
       "<div>\n",
       "<style scoped>\n",
       "    .dataframe tbody tr th:only-of-type {\n",
       "        vertical-align: middle;\n",
       "    }\n",
       "\n",
       "    .dataframe tbody tr th {\n",
       "        vertical-align: top;\n",
       "    }\n",
       "\n",
       "    .dataframe thead th {\n",
       "        text-align: right;\n",
       "    }\n",
       "</style>\n",
       "<table border=\"1\" class=\"dataframe\">\n",
       "  <thead>\n",
       "    <tr style=\"text-align: right;\">\n",
       "      <th></th>\n",
       "      <th>age</th>\n",
       "      <th>sex</th>\n",
       "      <th>bmi</th>\n",
       "      <th>children</th>\n",
       "      <th>smoker</th>\n",
       "      <th>region</th>\n",
       "      <th>charges</th>\n",
       "    </tr>\n",
       "  </thead>\n",
       "  <tbody>\n",
       "    <tr>\n",
       "      <th>0</th>\n",
       "      <td>19</td>\n",
       "      <td>0</td>\n",
       "      <td>27.900</td>\n",
       "      <td>0</td>\n",
       "      <td>1</td>\n",
       "      <td>1</td>\n",
       "      <td>16884.92400</td>\n",
       "    </tr>\n",
       "    <tr>\n",
       "      <th>1</th>\n",
       "      <td>18</td>\n",
       "      <td>1</td>\n",
       "      <td>33.770</td>\n",
       "      <td>1</td>\n",
       "      <td>0</td>\n",
       "      <td>2</td>\n",
       "      <td>1725.55230</td>\n",
       "    </tr>\n",
       "    <tr>\n",
       "      <th>2</th>\n",
       "      <td>28</td>\n",
       "      <td>1</td>\n",
       "      <td>33.000</td>\n",
       "      <td>3</td>\n",
       "      <td>0</td>\n",
       "      <td>2</td>\n",
       "      <td>4449.46200</td>\n",
       "    </tr>\n",
       "    <tr>\n",
       "      <th>3</th>\n",
       "      <td>33</td>\n",
       "      <td>1</td>\n",
       "      <td>22.705</td>\n",
       "      <td>0</td>\n",
       "      <td>0</td>\n",
       "      <td>3</td>\n",
       "      <td>21984.47061</td>\n",
       "    </tr>\n",
       "    <tr>\n",
       "      <th>4</th>\n",
       "      <td>32</td>\n",
       "      <td>1</td>\n",
       "      <td>28.880</td>\n",
       "      <td>0</td>\n",
       "      <td>0</td>\n",
       "      <td>3</td>\n",
       "      <td>3866.85520</td>\n",
       "    </tr>\n",
       "  </tbody>\n",
       "</table>\n",
       "</div>"
      ],
      "text/plain": [
       "   age  sex     bmi  children  smoker  region      charges\n",
       "0   19    0  27.900         0       1       1  16884.92400\n",
       "1   18    1  33.770         1       0       2   1725.55230\n",
       "2   28    1  33.000         3       0       2   4449.46200\n",
       "3   33    1  22.705         0       0       3  21984.47061\n",
       "4   32    1  28.880         0       0       3   3866.85520"
      ]
     },
     "execution_count": 20,
     "metadata": {},
     "output_type": "execute_result"
    }
   ],
   "source": [
    "data.head(5)"
   ]
  },
  {
   "cell_type": "markdown",
   "id": "856e7c0f",
   "metadata": {
    "papermill": {
     "duration": 0.064513,
     "end_time": "2022-05-04T08:47:13.033975",
     "exception": false,
     "start_time": "2022-05-04T08:47:12.969462",
     "status": "completed"
    },
    "tags": []
   },
   "source": [
    "# 8. Store Feature Matrix In X and Response(Target) In Vector y"
   ]
  },
  {
   "cell_type": "code",
   "execution_count": 21,
   "id": "b590b271",
   "metadata": {
    "execution": {
     "iopub.execute_input": "2022-05-04T08:47:13.166736Z",
     "iopub.status.busy": "2022-05-04T08:47:13.166095Z",
     "iopub.status.idle": "2022-05-04T08:47:13.173244Z",
     "shell.execute_reply": "2022-05-04T08:47:13.172281Z"
    },
    "papermill": {
     "duration": 0.076812,
     "end_time": "2022-05-04T08:47:13.175579",
     "exception": false,
     "start_time": "2022-05-04T08:47:13.098767",
     "status": "completed"
    },
    "tags": []
   },
   "outputs": [
    {
     "data": {
      "text/plain": [
       "Index(['age', 'sex', 'bmi', 'children', 'smoker', 'region', 'charges'], dtype='object')"
      ]
     },
     "execution_count": 21,
     "metadata": {},
     "output_type": "execute_result"
    }
   ],
   "source": [
    "data.columns"
   ]
  },
  {
   "cell_type": "code",
   "execution_count": 22,
   "id": "05891630",
   "metadata": {
    "execution": {
     "iopub.execute_input": "2022-05-04T08:47:13.308350Z",
     "iopub.status.busy": "2022-05-04T08:47:13.307609Z",
     "iopub.status.idle": "2022-05-04T08:47:13.314747Z",
     "shell.execute_reply": "2022-05-04T08:47:13.313721Z"
    },
    "papermill": {
     "duration": 0.077169,
     "end_time": "2022-05-04T08:47:13.317430",
     "exception": false,
     "start_time": "2022-05-04T08:47:13.240261",
     "status": "completed"
    },
    "tags": []
   },
   "outputs": [],
   "source": [
    "# independent variable in X\n",
    "X = data.drop(['charges'],axis=1)"
   ]
  },
  {
   "cell_type": "code",
   "execution_count": 23,
   "id": "80a92706",
   "metadata": {
    "execution": {
     "iopub.execute_input": "2022-05-04T08:47:13.453647Z",
     "iopub.status.busy": "2022-05-04T08:47:13.453307Z",
     "iopub.status.idle": "2022-05-04T08:47:13.469165Z",
     "shell.execute_reply": "2022-05-04T08:47:13.468456Z"
    },
    "papermill": {
     "duration": 0.08827,
     "end_time": "2022-05-04T08:47:13.471411",
     "exception": false,
     "start_time": "2022-05-04T08:47:13.383141",
     "status": "completed"
    },
    "tags": []
   },
   "outputs": [
    {
     "data": {
      "text/html": [
       "<div>\n",
       "<style scoped>\n",
       "    .dataframe tbody tr th:only-of-type {\n",
       "        vertical-align: middle;\n",
       "    }\n",
       "\n",
       "    .dataframe tbody tr th {\n",
       "        vertical-align: top;\n",
       "    }\n",
       "\n",
       "    .dataframe thead th {\n",
       "        text-align: right;\n",
       "    }\n",
       "</style>\n",
       "<table border=\"1\" class=\"dataframe\">\n",
       "  <thead>\n",
       "    <tr style=\"text-align: right;\">\n",
       "      <th></th>\n",
       "      <th>age</th>\n",
       "      <th>sex</th>\n",
       "      <th>bmi</th>\n",
       "      <th>children</th>\n",
       "      <th>smoker</th>\n",
       "      <th>region</th>\n",
       "    </tr>\n",
       "  </thead>\n",
       "  <tbody>\n",
       "    <tr>\n",
       "      <th>0</th>\n",
       "      <td>19</td>\n",
       "      <td>0</td>\n",
       "      <td>27.900</td>\n",
       "      <td>0</td>\n",
       "      <td>1</td>\n",
       "      <td>1</td>\n",
       "    </tr>\n",
       "    <tr>\n",
       "      <th>1</th>\n",
       "      <td>18</td>\n",
       "      <td>1</td>\n",
       "      <td>33.770</td>\n",
       "      <td>1</td>\n",
       "      <td>0</td>\n",
       "      <td>2</td>\n",
       "    </tr>\n",
       "    <tr>\n",
       "      <th>2</th>\n",
       "      <td>28</td>\n",
       "      <td>1</td>\n",
       "      <td>33.000</td>\n",
       "      <td>3</td>\n",
       "      <td>0</td>\n",
       "      <td>2</td>\n",
       "    </tr>\n",
       "    <tr>\n",
       "      <th>3</th>\n",
       "      <td>33</td>\n",
       "      <td>1</td>\n",
       "      <td>22.705</td>\n",
       "      <td>0</td>\n",
       "      <td>0</td>\n",
       "      <td>3</td>\n",
       "    </tr>\n",
       "    <tr>\n",
       "      <th>4</th>\n",
       "      <td>32</td>\n",
       "      <td>1</td>\n",
       "      <td>28.880</td>\n",
       "      <td>0</td>\n",
       "      <td>0</td>\n",
       "      <td>3</td>\n",
       "    </tr>\n",
       "    <tr>\n",
       "      <th>...</th>\n",
       "      <td>...</td>\n",
       "      <td>...</td>\n",
       "      <td>...</td>\n",
       "      <td>...</td>\n",
       "      <td>...</td>\n",
       "      <td>...</td>\n",
       "    </tr>\n",
       "    <tr>\n",
       "      <th>1333</th>\n",
       "      <td>50</td>\n",
       "      <td>1</td>\n",
       "      <td>30.970</td>\n",
       "      <td>3</td>\n",
       "      <td>0</td>\n",
       "      <td>3</td>\n",
       "    </tr>\n",
       "    <tr>\n",
       "      <th>1334</th>\n",
       "      <td>18</td>\n",
       "      <td>0</td>\n",
       "      <td>31.920</td>\n",
       "      <td>0</td>\n",
       "      <td>0</td>\n",
       "      <td>4</td>\n",
       "    </tr>\n",
       "    <tr>\n",
       "      <th>1335</th>\n",
       "      <td>18</td>\n",
       "      <td>0</td>\n",
       "      <td>36.850</td>\n",
       "      <td>0</td>\n",
       "      <td>0</td>\n",
       "      <td>2</td>\n",
       "    </tr>\n",
       "    <tr>\n",
       "      <th>1336</th>\n",
       "      <td>21</td>\n",
       "      <td>0</td>\n",
       "      <td>25.800</td>\n",
       "      <td>0</td>\n",
       "      <td>0</td>\n",
       "      <td>1</td>\n",
       "    </tr>\n",
       "    <tr>\n",
       "      <th>1337</th>\n",
       "      <td>61</td>\n",
       "      <td>0</td>\n",
       "      <td>29.070</td>\n",
       "      <td>0</td>\n",
       "      <td>1</td>\n",
       "      <td>3</td>\n",
       "    </tr>\n",
       "  </tbody>\n",
       "</table>\n",
       "<p>1338 rows × 6 columns</p>\n",
       "</div>"
      ],
      "text/plain": [
       "      age  sex     bmi  children  smoker  region\n",
       "0      19    0  27.900         0       1       1\n",
       "1      18    1  33.770         1       0       2\n",
       "2      28    1  33.000         3       0       2\n",
       "3      33    1  22.705         0       0       3\n",
       "4      32    1  28.880         0       0       3\n",
       "...   ...  ...     ...       ...     ...     ...\n",
       "1333   50    1  30.970         3       0       3\n",
       "1334   18    0  31.920         0       0       4\n",
       "1335   18    0  36.850         0       0       2\n",
       "1336   21    0  25.800         0       0       1\n",
       "1337   61    0  29.070         0       1       3\n",
       "\n",
       "[1338 rows x 6 columns]"
      ]
     },
     "execution_count": 23,
     "metadata": {},
     "output_type": "execute_result"
    }
   ],
   "source": [
    "X"
   ]
  },
  {
   "cell_type": "code",
   "execution_count": 24,
   "id": "876b1ded",
   "metadata": {
    "execution": {
     "iopub.execute_input": "2022-05-04T08:47:13.606565Z",
     "iopub.status.busy": "2022-05-04T08:47:13.605912Z",
     "iopub.status.idle": "2022-05-04T08:47:13.610241Z",
     "shell.execute_reply": "2022-05-04T08:47:13.609390Z"
    },
    "papermill": {
     "duration": 0.074954,
     "end_time": "2022-05-04T08:47:13.612554",
     "exception": false,
     "start_time": "2022-05-04T08:47:13.537600",
     "status": "completed"
    },
    "tags": []
   },
   "outputs": [],
   "source": [
    "# dependent variable is y\n",
    "y = data['charges']"
   ]
  },
  {
   "cell_type": "code",
   "execution_count": 25,
   "id": "c1b4a26c",
   "metadata": {
    "execution": {
     "iopub.execute_input": "2022-05-04T08:47:13.748455Z",
     "iopub.status.busy": "2022-05-04T08:47:13.747935Z",
     "iopub.status.idle": "2022-05-04T08:47:13.755387Z",
     "shell.execute_reply": "2022-05-04T08:47:13.754600Z"
    },
    "papermill": {
     "duration": 0.079016,
     "end_time": "2022-05-04T08:47:13.757450",
     "exception": false,
     "start_time": "2022-05-04T08:47:13.678434",
     "status": "completed"
    },
    "tags": []
   },
   "outputs": [
    {
     "data": {
      "text/plain": [
       "0       16884.92400\n",
       "1        1725.55230\n",
       "2        4449.46200\n",
       "3       21984.47061\n",
       "4        3866.85520\n",
       "           ...     \n",
       "1333    10600.54830\n",
       "1334     2205.98080\n",
       "1335     1629.83350\n",
       "1336     2007.94500\n",
       "1337    29141.36030\n",
       "Name: charges, Length: 1338, dtype: float64"
      ]
     },
     "execution_count": 25,
     "metadata": {},
     "output_type": "execute_result"
    }
   ],
   "source": [
    "y"
   ]
  },
  {
   "cell_type": "markdown",
   "id": "3b0e91fa",
   "metadata": {
    "papermill": {
     "duration": 0.065839,
     "end_time": "2022-05-04T08:47:13.890242",
     "exception": false,
     "start_time": "2022-05-04T08:47:13.824403",
     "status": "completed"
    },
    "tags": []
   },
   "source": [
    "# 9. Train/Test split\n",
    "          1. Split data into two-part: a training set and a testing set\n",
    "          2. Train the model(s) on the training set\n",
    "          3. Test the Model(s) on the Testing set"
   ]
  },
  {
   "cell_type": "code",
   "execution_count": 26,
   "id": "52429806",
   "metadata": {
    "execution": {
     "iopub.execute_input": "2022-05-04T08:47:14.026520Z",
     "iopub.status.busy": "2022-05-04T08:47:14.025829Z",
     "iopub.status.idle": "2022-05-04T08:47:15.342825Z",
     "shell.execute_reply": "2022-05-04T08:47:15.341850Z"
    },
    "papermill": {
     "duration": 1.388156,
     "end_time": "2022-05-04T08:47:15.345612",
     "exception": false,
     "start_time": "2022-05-04T08:47:13.957456",
     "status": "completed"
    },
    "tags": []
   },
   "outputs": [],
   "source": [
    "from sklearn.model_selection import train_test_split"
   ]
  },
  {
   "cell_type": "code",
   "execution_count": 27,
   "id": "15c51b6e",
   "metadata": {
    "execution": {
     "iopub.execute_input": "2022-05-04T08:47:15.485964Z",
     "iopub.status.busy": "2022-05-04T08:47:15.485204Z",
     "iopub.status.idle": "2022-05-04T08:47:15.492562Z",
     "shell.execute_reply": "2022-05-04T08:47:15.491661Z"
    },
    "papermill": {
     "duration": 0.078938,
     "end_time": "2022-05-04T08:47:15.495090",
     "exception": false,
     "start_time": "2022-05-04T08:47:15.416152",
     "status": "completed"
    },
    "tags": []
   },
   "outputs": [],
   "source": [
    "X_train,X_test,y_train,y_test = train_test_split(X,y,test_size=0.2,random_state=42)"
   ]
  },
  {
   "cell_type": "code",
   "execution_count": 28,
   "id": "2fbbb6c9",
   "metadata": {
    "execution": {
     "iopub.execute_input": "2022-05-04T08:47:15.634287Z",
     "iopub.status.busy": "2022-05-04T08:47:15.633522Z",
     "iopub.status.idle": "2022-05-04T08:47:15.640791Z",
     "shell.execute_reply": "2022-05-04T08:47:15.639807Z"
    },
    "papermill": {
     "duration": 0.080747,
     "end_time": "2022-05-04T08:47:15.643054",
     "exception": false,
     "start_time": "2022-05-04T08:47:15.562307",
     "status": "completed"
    },
    "tags": []
   },
   "outputs": [
    {
     "data": {
      "text/plain": [
       "(1070, 6)"
      ]
     },
     "execution_count": 28,
     "metadata": {},
     "output_type": "execute_result"
    }
   ],
   "source": [
    "X_train.shape"
   ]
  },
  {
   "cell_type": "code",
   "execution_count": 29,
   "id": "f1ed2791",
   "metadata": {
    "execution": {
     "iopub.execute_input": "2022-05-04T08:47:15.779901Z",
     "iopub.status.busy": "2022-05-04T08:47:15.779343Z",
     "iopub.status.idle": "2022-05-04T08:47:15.785556Z",
     "shell.execute_reply": "2022-05-04T08:47:15.784729Z"
    },
    "papermill": {
     "duration": 0.077251,
     "end_time": "2022-05-04T08:47:15.787559",
     "exception": false,
     "start_time": "2022-05-04T08:47:15.710308",
     "status": "completed"
    },
    "tags": []
   },
   "outputs": [
    {
     "data": {
      "text/plain": [
       "(268, 6)"
      ]
     },
     "execution_count": 29,
     "metadata": {},
     "output_type": "execute_result"
    }
   ],
   "source": [
    "X_test.shape"
   ]
  },
  {
   "cell_type": "code",
   "execution_count": 30,
   "id": "b3f6284e",
   "metadata": {
    "execution": {
     "iopub.execute_input": "2022-05-04T08:47:15.928553Z",
     "iopub.status.busy": "2022-05-04T08:47:15.928061Z",
     "iopub.status.idle": "2022-05-04T08:47:15.933953Z",
     "shell.execute_reply": "2022-05-04T08:47:15.933181Z"
    },
    "papermill": {
     "duration": 0.079045,
     "end_time": "2022-05-04T08:47:15.935988",
     "exception": false,
     "start_time": "2022-05-04T08:47:15.856943",
     "status": "completed"
    },
    "tags": []
   },
   "outputs": [
    {
     "data": {
      "text/plain": [
       "(1070,)"
      ]
     },
     "execution_count": 30,
     "metadata": {},
     "output_type": "execute_result"
    }
   ],
   "source": [
    "y_train.shape"
   ]
  },
  {
   "cell_type": "code",
   "execution_count": 31,
   "id": "8ee9548f",
   "metadata": {
    "execution": {
     "iopub.execute_input": "2022-05-04T08:47:16.075780Z",
     "iopub.status.busy": "2022-05-04T08:47:16.075247Z",
     "iopub.status.idle": "2022-05-04T08:47:16.080586Z",
     "shell.execute_reply": "2022-05-04T08:47:16.079930Z"
    },
    "papermill": {
     "duration": 0.077172,
     "end_time": "2022-05-04T08:47:16.082748",
     "exception": false,
     "start_time": "2022-05-04T08:47:16.005576",
     "status": "completed"
    },
    "tags": []
   },
   "outputs": [
    {
     "data": {
      "text/plain": [
       "(268,)"
      ]
     },
     "execution_count": 31,
     "metadata": {},
     "output_type": "execute_result"
    }
   ],
   "source": [
    "y_test.shape"
   ]
  },
  {
   "cell_type": "markdown",
   "id": "afeb2e54",
   "metadata": {
    "papermill": {
     "duration": 0.069133,
     "end_time": "2022-05-04T08:47:16.221731",
     "exception": false,
     "start_time": "2022-05-04T08:47:16.152598",
     "status": "completed"
    },
    "tags": []
   },
   "source": [
    "# 10. Import the models"
   ]
  },
  {
   "cell_type": "code",
   "execution_count": 32,
   "id": "6bdf733d",
   "metadata": {
    "execution": {
     "iopub.execute_input": "2022-05-04T08:47:16.363196Z",
     "iopub.status.busy": "2022-05-04T08:47:16.362863Z",
     "iopub.status.idle": "2022-05-04T08:47:16.637118Z",
     "shell.execute_reply": "2022-05-04T08:47:16.635952Z"
    },
    "papermill": {
     "duration": 0.347454,
     "end_time": "2022-05-04T08:47:16.639964",
     "exception": false,
     "start_time": "2022-05-04T08:47:16.292510",
     "status": "completed"
    },
    "tags": []
   },
   "outputs": [],
   "source": [
    "from sklearn.linear_model import LinearRegression\n",
    "from sklearn.svm import SVR\n",
    "from sklearn.ensemble import RandomForestRegressor\n",
    "from sklearn.ensemble import GradientBoostingRegressor"
   ]
  },
  {
   "cell_type": "markdown",
   "id": "9d46afcd",
   "metadata": {
    "papermill": {
     "duration": 0.069003,
     "end_time": "2022-05-04T08:47:16.778222",
     "exception": false,
     "start_time": "2022-05-04T08:47:16.709219",
     "status": "completed"
    },
    "tags": []
   },
   "source": [
    "# 11. Model Training"
   ]
  },
  {
   "cell_type": "code",
   "execution_count": 33,
   "id": "ca80e3fa",
   "metadata": {
    "execution": {
     "iopub.execute_input": "2022-05-04T08:47:16.918238Z",
     "iopub.status.busy": "2022-05-04T08:47:16.917486Z",
     "iopub.status.idle": "2022-05-04T08:47:17.481662Z",
     "shell.execute_reply": "2022-05-04T08:47:17.480660Z"
    },
    "papermill": {
     "duration": 0.638203,
     "end_time": "2022-05-04T08:47:17.484503",
     "exception": false,
     "start_time": "2022-05-04T08:47:16.846300",
     "status": "completed"
    },
    "tags": []
   },
   "outputs": [
    {
     "data": {
      "text/plain": [
       "GradientBoostingRegressor()"
      ]
     },
     "execution_count": 33,
     "metadata": {},
     "output_type": "execute_result"
    }
   ],
   "source": [
    "lr = LinearRegression()\n",
    "lr.fit(X_train,y_train)\n",
    "svm = SVR()\n",
    "svm.fit(X_train,y_train)\n",
    "rf = RandomForestRegressor()\n",
    "rf.fit(X_train,y_train)\n",
    "gr = GradientBoostingRegressor()\n",
    "gr.fit(X_train,y_train)"
   ]
  },
  {
   "cell_type": "markdown",
   "id": "d1cc681e",
   "metadata": {
    "papermill": {
     "duration": 0.06802,
     "end_time": "2022-05-04T08:47:17.623229",
     "exception": false,
     "start_time": "2022-05-04T08:47:17.555209",
     "status": "completed"
    },
    "tags": []
   },
   "source": [
    "# 12. Prediction on Test Data"
   ]
  },
  {
   "cell_type": "code",
   "execution_count": 34,
   "id": "60bcdf1c",
   "metadata": {
    "execution": {
     "iopub.execute_input": "2022-05-04T08:47:17.768609Z",
     "iopub.status.busy": "2022-05-04T08:47:17.767902Z",
     "iopub.status.idle": "2022-05-04T08:47:17.817342Z",
     "shell.execute_reply": "2022-05-04T08:47:17.816134Z"
    },
    "papermill": {
     "duration": 0.127252,
     "end_time": "2022-05-04T08:47:17.820368",
     "exception": false,
     "start_time": "2022-05-04T08:47:17.693116",
     "status": "completed"
    },
    "tags": []
   },
   "outputs": [],
   "source": [
    "y_pred1 = lr.predict(X_test)\n",
    "y_pred2 = svm.predict(X_test)\n",
    "y_pred3 = rf.predict(X_test)\n",
    "y_pred4 = gr.predict(X_test)\n",
    "\n",
    "df1 = pd.DataFrame({'Actual':y_test,'Lr':y_pred1,\n",
    "                  'svm':y_pred2,'rf':y_pred3,'gr':y_pred4})\n"
   ]
  },
  {
   "cell_type": "code",
   "execution_count": 35,
   "id": "c00222be",
   "metadata": {
    "execution": {
     "iopub.execute_input": "2022-05-04T08:47:17.971590Z",
     "iopub.status.busy": "2022-05-04T08:47:17.971197Z",
     "iopub.status.idle": "2022-05-04T08:47:17.990196Z",
     "shell.execute_reply": "2022-05-04T08:47:17.989384Z"
    },
    "papermill": {
     "duration": 0.098064,
     "end_time": "2022-05-04T08:47:17.992573",
     "exception": false,
     "start_time": "2022-05-04T08:47:17.894509",
     "status": "completed"
    },
    "tags": []
   },
   "outputs": [
    {
     "data": {
      "text/html": [
       "<div>\n",
       "<style scoped>\n",
       "    .dataframe tbody tr th:only-of-type {\n",
       "        vertical-align: middle;\n",
       "    }\n",
       "\n",
       "    .dataframe tbody tr th {\n",
       "        vertical-align: top;\n",
       "    }\n",
       "\n",
       "    .dataframe thead th {\n",
       "        text-align: right;\n",
       "    }\n",
       "</style>\n",
       "<table border=\"1\" class=\"dataframe\">\n",
       "  <thead>\n",
       "    <tr style=\"text-align: right;\">\n",
       "      <th></th>\n",
       "      <th>Actual</th>\n",
       "      <th>Lr</th>\n",
       "      <th>svm</th>\n",
       "      <th>rf</th>\n",
       "      <th>gr</th>\n",
       "    </tr>\n",
       "  </thead>\n",
       "  <tbody>\n",
       "    <tr>\n",
       "      <th>764</th>\n",
       "      <td>9095.06825</td>\n",
       "      <td>8924.407244</td>\n",
       "      <td>9548.261584</td>\n",
       "      <td>10592.780793</td>\n",
       "      <td>11001.128629</td>\n",
       "    </tr>\n",
       "    <tr>\n",
       "      <th>887</th>\n",
       "      <td>5272.17580</td>\n",
       "      <td>7116.295018</td>\n",
       "      <td>9492.515425</td>\n",
       "      <td>5099.162247</td>\n",
       "      <td>5840.174656</td>\n",
       "    </tr>\n",
       "    <tr>\n",
       "      <th>890</th>\n",
       "      <td>29330.98315</td>\n",
       "      <td>36909.013521</td>\n",
       "      <td>9648.758701</td>\n",
       "      <td>28389.290000</td>\n",
       "      <td>28001.980112</td>\n",
       "    </tr>\n",
       "    <tr>\n",
       "      <th>1293</th>\n",
       "      <td>9301.89355</td>\n",
       "      <td>9507.874691</td>\n",
       "      <td>9555.044136</td>\n",
       "      <td>10277.269573</td>\n",
       "      <td>9745.291602</td>\n",
       "    </tr>\n",
       "    <tr>\n",
       "      <th>259</th>\n",
       "      <td>33750.29180</td>\n",
       "      <td>27013.350008</td>\n",
       "      <td>9420.421978</td>\n",
       "      <td>34526.839354</td>\n",
       "      <td>33639.100981</td>\n",
       "    </tr>\n",
       "    <tr>\n",
       "      <th>...</th>\n",
       "      <td>...</td>\n",
       "      <td>...</td>\n",
       "      <td>...</td>\n",
       "      <td>...</td>\n",
       "      <td>...</td>\n",
       "    </tr>\n",
       "    <tr>\n",
       "      <th>109</th>\n",
       "      <td>47055.53210</td>\n",
       "      <td>39116.968669</td>\n",
       "      <td>9648.902852</td>\n",
       "      <td>46793.406445</td>\n",
       "      <td>45431.423211</td>\n",
       "    </tr>\n",
       "    <tr>\n",
       "      <th>575</th>\n",
       "      <td>12222.89830</td>\n",
       "      <td>11814.555568</td>\n",
       "      <td>9625.431547</td>\n",
       "      <td>12566.461410</td>\n",
       "      <td>12465.025294</td>\n",
       "    </tr>\n",
       "    <tr>\n",
       "      <th>535</th>\n",
       "      <td>6067.12675</td>\n",
       "      <td>7638.107736</td>\n",
       "      <td>9504.168517</td>\n",
       "      <td>6483.962844</td>\n",
       "      <td>6974.336525</td>\n",
       "    </tr>\n",
       "    <tr>\n",
       "      <th>543</th>\n",
       "      <td>63770.42801</td>\n",
       "      <td>40959.081722</td>\n",
       "      <td>9605.004594</td>\n",
       "      <td>46582.721200</td>\n",
       "      <td>47862.047791</td>\n",
       "    </tr>\n",
       "    <tr>\n",
       "      <th>846</th>\n",
       "      <td>9872.70100</td>\n",
       "      <td>12258.228529</td>\n",
       "      <td>9590.987268</td>\n",
       "      <td>9776.538193</td>\n",
       "      <td>10289.655388</td>\n",
       "    </tr>\n",
       "  </tbody>\n",
       "</table>\n",
       "<p>268 rows × 5 columns</p>\n",
       "</div>"
      ],
      "text/plain": [
       "           Actual            Lr          svm            rf            gr\n",
       "764    9095.06825   8924.407244  9548.261584  10592.780793  11001.128629\n",
       "887    5272.17580   7116.295018  9492.515425   5099.162247   5840.174656\n",
       "890   29330.98315  36909.013521  9648.758701  28389.290000  28001.980112\n",
       "1293   9301.89355   9507.874691  9555.044136  10277.269573   9745.291602\n",
       "259   33750.29180  27013.350008  9420.421978  34526.839354  33639.100981\n",
       "...           ...           ...          ...           ...           ...\n",
       "109   47055.53210  39116.968669  9648.902852  46793.406445  45431.423211\n",
       "575   12222.89830  11814.555568  9625.431547  12566.461410  12465.025294\n",
       "535    6067.12675   7638.107736  9504.168517   6483.962844   6974.336525\n",
       "543   63770.42801  40959.081722  9605.004594  46582.721200  47862.047791\n",
       "846    9872.70100  12258.228529  9590.987268   9776.538193  10289.655388\n",
       "\n",
       "[268 rows x 5 columns]"
      ]
     },
     "execution_count": 35,
     "metadata": {},
     "output_type": "execute_result"
    }
   ],
   "source": [
    "df1"
   ]
  },
  {
   "cell_type": "markdown",
   "id": "d303e8e7",
   "metadata": {
    "papermill": {
     "duration": 0.073821,
     "end_time": "2022-05-04T08:47:18.141345",
     "exception": false,
     "start_time": "2022-05-04T08:47:18.067524",
     "status": "completed"
    },
    "tags": []
   },
   "source": [
    "# 13. Compare Performance Visually "
   ]
  },
  {
   "cell_type": "code",
   "execution_count": 36,
   "id": "f6fb5b6b",
   "metadata": {
    "execution": {
     "iopub.execute_input": "2022-05-04T08:47:18.290333Z",
     "iopub.status.busy": "2022-05-04T08:47:18.289126Z",
     "iopub.status.idle": "2022-05-04T08:47:18.294107Z",
     "shell.execute_reply": "2022-05-04T08:47:18.293326Z"
    },
    "papermill": {
     "duration": 0.079375,
     "end_time": "2022-05-04T08:47:18.296327",
     "exception": false,
     "start_time": "2022-05-04T08:47:18.216952",
     "status": "completed"
    },
    "tags": []
   },
   "outputs": [],
   "source": [
    "import matplotlib.pyplot as plt"
   ]
  },
  {
   "cell_type": "code",
   "execution_count": 37,
   "id": "779a8a2a",
   "metadata": {
    "execution": {
     "iopub.execute_input": "2022-05-04T08:47:18.446682Z",
     "iopub.status.busy": "2022-05-04T08:47:18.445891Z",
     "iopub.status.idle": "2022-05-04T08:47:19.185661Z",
     "shell.execute_reply": "2022-05-04T08:47:19.184554Z"
    },
    "papermill": {
     "duration": 0.818556,
     "end_time": "2022-05-04T08:47:19.189061",
     "exception": false,
     "start_time": "2022-05-04T08:47:18.370505",
     "status": "completed"
    },
    "tags": []
   },
   "outputs": [
    {
     "data": {
      "text/plain": [
       "<matplotlib.legend.Legend at 0x7f3213859b10>"
      ]
     },
     "execution_count": 37,
     "metadata": {},
     "output_type": "execute_result"
    },
    {
     "data": {
      "image/png": "[encoded data removed]",
      "text/plain": [
       "<Figure size 432x288 with 4 Axes>"
      ]
     },
     "metadata": {
      "needs_background": "light"
     },
     "output_type": "display_data"
    }
   ],
   "source": [
    "plt.subplot(221)\n",
    "plt.plot(df1['Actual'].iloc[0:11],label='Actual')\n",
    "plt.plot(df1['Lr'].iloc[0:11],label=\"Lr\")\n",
    "plt.legend()\n",
    "\n",
    "plt.subplot(222)\n",
    "plt.plot(df1['Actual'].iloc[0:11],label='Actual')\n",
    "plt.plot(df1['svm'].iloc[0:11],label=\"svr\")\n",
    "plt.legend()\n",
    "\n",
    "plt.subplot(223)\n",
    "plt.plot(df1['Actual'].iloc[0:11],label='Actual')\n",
    "plt.plot(df1['rf'].iloc[0:11],label=\"rf\")\n",
    "plt.legend()\n",
    "\n",
    "plt.subplot(224)\n",
    "plt.plot(df1['Actual'].iloc[0:11],label='Actual')\n",
    "plt.plot(df1['gr'].iloc[0:11],label=\"gr\")\n",
    "\n",
    "plt.tight_layout()\n",
    "\n",
    "plt.legend()\n"
   ]
  },
  {
   "cell_type": "markdown",
   "id": "d26c9289",
   "metadata": {
    "papermill": {
     "duration": 0.073024,
     "end_time": "2022-05-04T08:47:19.334989",
     "exception": false,
     "start_time": "2022-05-04T08:47:19.261965",
     "status": "completed"
    },
    "tags": []
   },
   "source": [
    "# 14. Evaluating the Algorithm"
   ]
  },
  {
   "cell_type": "code",
   "execution_count": 38,
   "id": "90a8ae11",
   "metadata": {
    "execution": {
     "iopub.execute_input": "2022-05-04T08:47:19.481954Z",
     "iopub.status.busy": "2022-05-04T08:47:19.481384Z",
     "iopub.status.idle": "2022-05-04T08:47:19.485976Z",
     "shell.execute_reply": "2022-05-04T08:47:19.485155Z"
    },
    "papermill": {
     "duration": 0.079978,
     "end_time": "2022-05-04T08:47:19.488154",
     "exception": false,
     "start_time": "2022-05-04T08:47:19.408176",
     "status": "completed"
    },
    "tags": []
   },
   "outputs": [],
   "source": [
    "from sklearn import metrics"
   ]
  },
  {
   "cell_type": "code",
   "execution_count": 39,
   "id": "8a53bbfb",
   "metadata": {
    "execution": {
     "iopub.execute_input": "2022-05-04T08:47:19.633989Z",
     "iopub.status.busy": "2022-05-04T08:47:19.633425Z",
     "iopub.status.idle": "2022-05-04T08:47:19.641146Z",
     "shell.execute_reply": "2022-05-04T08:47:19.640445Z"
    },
    "papermill": {
     "duration": 0.084134,
     "end_time": "2022-05-04T08:47:19.643523",
     "exception": false,
     "start_time": "2022-05-04T08:47:19.559389",
     "status": "completed"
    },
    "tags": []
   },
   "outputs": [],
   "source": [
    "score1 = metrics.r2_score(y_test,y_pred1)\n",
    "score2 = metrics.r2_score(y_test,y_pred2)\n",
    "score3 = metrics.r2_score(y_test,y_pred3)\n",
    "score4 = metrics.r2_score(y_test,y_pred4)"
   ]
  },
  {
   "cell_type": "code",
   "execution_count": 40,
   "id": "83521eca",
   "metadata": {
    "execution": {
     "iopub.execute_input": "2022-05-04T08:47:19.788398Z",
     "iopub.status.busy": "2022-05-04T08:47:19.787821Z",
     "iopub.status.idle": "2022-05-04T08:47:19.794579Z",
     "shell.execute_reply": "2022-05-04T08:47:19.793443Z"
    },
    "papermill": {
     "duration": 0.082087,
     "end_time": "2022-05-04T08:47:19.796909",
     "exception": false,
     "start_time": "2022-05-04T08:47:19.714822",
     "status": "completed"
    },
    "tags": []
   },
   "outputs": [
    {
     "name": "stdout",
     "output_type": "stream",
     "text": [
      "0.7833463107364539 -0.07229762787861826 0.8585601521513134 0.8779726251291786\n"
     ]
    }
   ],
   "source": [
    "print(score1,score2,score3,score4)"
   ]
  },
  {
   "cell_type": "code",
   "execution_count": 41,
   "id": "35edebda",
   "metadata": {
    "execution": {
     "iopub.execute_input": "2022-05-04T08:47:19.945388Z",
     "iopub.status.busy": "2022-05-04T08:47:19.945010Z",
     "iopub.status.idle": "2022-05-04T08:47:19.952471Z",
     "shell.execute_reply": "2022-05-04T08:47:19.951718Z"
    },
    "papermill": {
     "duration": 0.085284,
     "end_time": "2022-05-04T08:47:19.954452",
     "exception": false,
     "start_time": "2022-05-04T08:47:19.869168",
     "status": "completed"
    },
    "tags": []
   },
   "outputs": [],
   "source": [
    "s1 = metrics.mean_absolute_error(y_test,y_pred1)\n",
    "s2 = metrics.mean_absolute_error(y_test,y_pred2)\n",
    "s3 = metrics.mean_absolute_error(y_test,y_pred3)\n",
    "s4 = metrics.mean_absolute_error(y_test,y_pred4)"
   ]
  },
  {
   "cell_type": "code",
   "execution_count": 42,
   "id": "37d6763e",
   "metadata": {
    "execution": {
     "iopub.execute_input": "2022-05-04T08:47:20.115675Z",
     "iopub.status.busy": "2022-05-04T08:47:20.114692Z",
     "iopub.status.idle": "2022-05-04T08:47:20.124382Z",
     "shell.execute_reply": "2022-05-04T08:47:20.123212Z"
    },
    "papermill": {
     "duration": 0.100983,
     "end_time": "2022-05-04T08:47:20.128825",
     "exception": false,
     "start_time": "2022-05-04T08:47:20.027842",
     "status": "completed"
    },
    "tags": []
   },
   "outputs": [
    {
     "name": "stdout",
     "output_type": "stream",
     "text": [
      "4186.508898366434 8592.428727899724 2576.140294652923 2447.951558054584\n"
     ]
    }
   ],
   "source": [
    "print(s1,s2,s3,s4)"
   ]
  },
  {
   "cell_type": "markdown",
   "id": "d78c2589",
   "metadata": {
    "papermill": {
     "duration": 0.078942,
     "end_time": "2022-05-04T08:47:20.294944",
     "exception": false,
     "start_time": "2022-05-04T08:47:20.216002",
     "status": "completed"
    },
    "tags": []
   },
   "source": [
    "# 15. Predict Charges For New Customer"
   ]
  },
  {
   "cell_type": "code",
   "execution_count": 43,
   "id": "4703293a",
   "metadata": {
    "execution": {
     "iopub.execute_input": "2022-05-04T08:47:20.470308Z",
     "iopub.status.busy": "2022-05-04T08:47:20.469292Z",
     "iopub.status.idle": "2022-05-04T08:47:20.476324Z",
     "shell.execute_reply": "2022-05-04T08:47:20.475375Z"
    },
    "papermill": {
     "duration": 0.101025,
     "end_time": "2022-05-04T08:47:20.478688",
     "exception": false,
     "start_time": "2022-05-04T08:47:20.377663",
     "status": "completed"
    },
    "tags": []
   },
   "outputs": [],
   "source": [
    "data = {'age' : 40,\n",
    "        'sex' : 1,\n",
    "        'bmi' : 40.30,\n",
    "        'children' : 4,\n",
    "        'smoker' : 1,\n",
    "        'region' : 2}"
   ]
  },
  {
   "cell_type": "code",
   "execution_count": 44,
   "id": "095a6a97",
   "metadata": {
    "execution": {
     "iopub.execute_input": "2022-05-04T08:47:20.626946Z",
     "iopub.status.busy": "2022-05-04T08:47:20.626265Z",
     "iopub.status.idle": "2022-05-04T08:47:20.639831Z",
     "shell.execute_reply": "2022-05-04T08:47:20.638944Z"
    },
    "papermill": {
     "duration": 0.090353,
     "end_time": "2022-05-04T08:47:20.642253",
     "exception": false,
     "start_time": "2022-05-04T08:47:20.551900",
     "status": "completed"
    },
    "tags": []
   },
   "outputs": [
    {
     "data": {
      "text/html": [
       "<div>\n",
       "<style scoped>\n",
       "    .dataframe tbody tr th:only-of-type {\n",
       "        vertical-align: middle;\n",
       "    }\n",
       "\n",
       "    .dataframe tbody tr th {\n",
       "        vertical-align: top;\n",
       "    }\n",
       "\n",
       "    .dataframe thead th {\n",
       "        text-align: right;\n",
       "    }\n",
       "</style>\n",
       "<table border=\"1\" class=\"dataframe\">\n",
       "  <thead>\n",
       "    <tr style=\"text-align: right;\">\n",
       "      <th></th>\n",
       "      <th>age</th>\n",
       "      <th>sex</th>\n",
       "      <th>bmi</th>\n",
       "      <th>children</th>\n",
       "      <th>smoker</th>\n",
       "      <th>region</th>\n",
       "    </tr>\n",
       "  </thead>\n",
       "  <tbody>\n",
       "    <tr>\n",
       "      <th>0</th>\n",
       "      <td>40</td>\n",
       "      <td>1</td>\n",
       "      <td>40.3</td>\n",
       "      <td>4</td>\n",
       "      <td>1</td>\n",
       "      <td>2</td>\n",
       "    </tr>\n",
       "  </tbody>\n",
       "</table>\n",
       "</div>"
      ],
      "text/plain": [
       "   age  sex   bmi  children  smoker  region\n",
       "0   40    1  40.3         4       1       2"
      ]
     },
     "execution_count": 44,
     "metadata": {},
     "output_type": "execute_result"
    }
   ],
   "source": [
    "df = pd.DataFrame(data,index=[0])\n",
    "df"
   ]
  },
  {
   "cell_type": "code",
   "execution_count": 45,
   "id": "a8a6fff3",
   "metadata": {
    "execution": {
     "iopub.execute_input": "2022-05-04T08:47:20.794283Z",
     "iopub.status.busy": "2022-05-04T08:47:20.793914Z",
     "iopub.status.idle": "2022-05-04T08:47:20.803782Z",
     "shell.execute_reply": "2022-05-04T08:47:20.802137Z"
    },
    "papermill": {
     "duration": 0.091691,
     "end_time": "2022-05-04T08:47:20.807456",
     "exception": false,
     "start_time": "2022-05-04T08:47:20.715765",
     "status": "completed"
    },
    "tags": []
   },
   "outputs": [
    {
     "name": "stdout",
     "output_type": "stream",
     "text": [
      "Medical Insurance cost for New Customer is :  43013.23345490827\n"
     ]
    }
   ],
   "source": [
    "new_pred = gr.predict(df)\n",
    "print(\"Medical Insurance cost for New Customer is : \",new_pred[0])"
   ]
  },
  {
   "cell_type": "markdown",
   "id": "a7504e24",
   "metadata": {
    "papermill": {
     "duration": 0.079316,
     "end_time": "2022-05-04T08:47:20.963083",
     "exception": false,
     "start_time": "2022-05-04T08:47:20.883767",
     "status": "completed"
    },
    "tags": []
   },
   "source": [
    "From above we found that gredianBoostingRegressor is the best model for this dataset. Before production, it is good practice to train our model on the entire dataset."
   ]
  },
  {
   "cell_type": "code",
   "execution_count": 46,
   "id": "ed0187ac",
   "metadata": {
    "execution": {
     "iopub.execute_input": "2022-05-04T08:47:21.117952Z",
     "iopub.status.busy": "2022-05-04T08:47:21.117295Z",
     "iopub.status.idle": "2022-05-04T08:47:21.255453Z",
     "shell.execute_reply": "2022-05-04T08:47:21.254539Z"
    },
    "papermill": {
     "duration": 0.217734,
     "end_time": "2022-05-04T08:47:21.258275",
     "exception": false,
     "start_time": "2022-05-04T08:47:21.040541",
     "status": "completed"
    },
    "tags": []
   },
   "outputs": [
    {
     "data": {
      "text/plain": [
       "GradientBoostingRegressor()"
      ]
     },
     "execution_count": 46,
     "metadata": {},
     "output_type": "execute_result"
    }
   ],
   "source": [
    "gr = GradientBoostingRegressor()\n",
    "gr.fit(X,y)"
   ]
  },
  {
   "cell_type": "markdown",
   "id": "86e771c8",
   "metadata": {
    "papermill": {
     "duration": 0.075259,
     "end_time": "2022-05-04T08:47:21.409205",
     "exception": false,
     "start_time": "2022-05-04T08:47:21.333946",
     "status": "completed"
    },
    "tags": []
   },
   "source": [
    "Predict Charges For New Customer"
   ]
  },
  {
   "cell_type": "code",
   "execution_count": 47,
   "id": "6ba436c1",
   "metadata": {
    "execution": {
     "iopub.execute_input": "2022-05-04T08:47:21.560510Z",
     "iopub.status.busy": "2022-05-04T08:47:21.559622Z",
     "iopub.status.idle": "2022-05-04T08:47:21.569249Z",
     "shell.execute_reply": "2022-05-04T08:47:21.568161Z"
    },
    "papermill": {
     "duration": 0.087966,
     "end_time": "2022-05-04T08:47:21.572200",
     "exception": false,
     "start_time": "2022-05-04T08:47:21.484234",
     "status": "completed"
    },
    "tags": []
   },
   "outputs": [
    {
     "name": "stdout",
     "output_type": "stream",
     "text": [
      "Medical Insurance cost for New Customer is :  42148.36188800322\n"
     ]
    }
   ],
   "source": [
    "new_pred = gr.predict(df)\n",
    "print(\"Medical Insurance cost for New Customer is : \",new_pred[0])"
   ]
  }
 ],
 "metadata": {
  "kernelspec": {
   "display_name": "Python 3",
   "language": "python",
   "name": "python3"
  },
  "language_info": {
   "codemirror_mode": {
    "name": "ipython",
    "version": 3
   },
   "file_extension": ".py",
   "mimetype": "text/x-python",
   "name": "python",
   "nbconvert_exporter": "python",
   "pygments_lexer": "ipython3",
   "version": "3.7.12"
  },
  "papermill": {
   "default_parameters": {},
   "duration": 25.820072,
   "end_time": "2022-05-04T08:47:22.771605",
   "environment_variables": {},
   "exception": null,
   "input_path": "__notebook__.ipynb",
   "output_path": "__notebook__.ipynb",
   "parameters": {},
   "start_time": "2022-05-04T08:46:56.951533",
   "version": "2.3.4"
  }
 },
 "nbformat": 4,
 "nbformat_minor": 5
}
