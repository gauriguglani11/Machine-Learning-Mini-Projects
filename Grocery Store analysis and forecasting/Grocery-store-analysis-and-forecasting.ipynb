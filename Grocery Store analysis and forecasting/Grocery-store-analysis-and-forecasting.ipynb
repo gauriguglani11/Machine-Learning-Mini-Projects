{
 "cells": [
  {
   "cell_type": "code",
   "execution_count": 1,
   "id": "ef7edea5",
   "metadata": {
    "execution": {
     "iopub.execute_input": "2023-01-25T10:29:17.690669Z",
     "iopub.status.busy": "2023-01-25T10:29:17.690156Z",
     "iopub.status.idle": "2023-01-25T10:29:17.722810Z",
     "shell.execute_reply": "2023-01-25T10:29:17.721512Z"
    },
    "papermill": {
     "duration": 0.043857,
     "end_time": "2023-01-25T10:29:17.725760",
     "exception": false,
     "start_time": "2023-01-25T10:29:17.681903",
     "status": "completed"
    },
    "tags": []
   },
   "outputs": [],
   "source": [
    "#Loading the data\n",
    "import pandas as pd\n",
    "store_data = pd.read_csv(\"/kaggle/input/store-data-analysis/stores data.csv\")"
   ]
  },
  {
   "cell_type": "code",
   "execution_count": 2,
   "id": "c428ea1f",
   "metadata": {
    "execution": {
     "iopub.execute_input": "2023-01-25T10:29:17.736794Z",
     "iopub.status.busy": "2023-01-25T10:29:17.736334Z",
     "iopub.status.idle": "2023-01-25T10:29:17.759902Z",
     "shell.execute_reply": "2023-01-25T10:29:17.758639Z"
    },
    "papermill": {
     "duration": 0.032921,
     "end_time": "2023-01-25T10:29:17.763454",
     "exception": false,
     "start_time": "2023-01-25T10:29:17.730533",
     "status": "completed"
    },
    "tags": []
   },
   "outputs": [
    {
     "data": {
      "text/html": [
       "<div>\n",
       "<style scoped>\n",
       "    .dataframe tbody tr th:only-of-type {\n",
       "        vertical-align: middle;\n",
       "    }\n",
       "\n",
       "    .dataframe tbody tr th {\n",
       "        vertical-align: top;\n",
       "    }\n",
       "\n",
       "    .dataframe thead th {\n",
       "        text-align: right;\n",
       "    }\n",
       "</style>\n",
       "<table border=\"1\" class=\"dataframe\">\n",
       "  <thead>\n",
       "    <tr style=\"text-align: right;\">\n",
       "      <th></th>\n",
       "      <th>Store ID</th>\n",
       "      <th>Store_Area</th>\n",
       "      <th>Items_Available</th>\n",
       "      <th>Daily_Customer_Count</th>\n",
       "      <th>Store_Sales</th>\n",
       "    </tr>\n",
       "  </thead>\n",
       "  <tbody>\n",
       "    <tr>\n",
       "      <th>0</th>\n",
       "      <td>1</td>\n",
       "      <td>1659</td>\n",
       "      <td>1961</td>\n",
       "      <td>530</td>\n",
       "      <td>66490</td>\n",
       "    </tr>\n",
       "    <tr>\n",
       "      <th>1</th>\n",
       "      <td>2</td>\n",
       "      <td>1461</td>\n",
       "      <td>1752</td>\n",
       "      <td>210</td>\n",
       "      <td>39820</td>\n",
       "    </tr>\n",
       "    <tr>\n",
       "      <th>2</th>\n",
       "      <td>3</td>\n",
       "      <td>1340</td>\n",
       "      <td>1609</td>\n",
       "      <td>720</td>\n",
       "      <td>54010</td>\n",
       "    </tr>\n",
       "    <tr>\n",
       "      <th>3</th>\n",
       "      <td>4</td>\n",
       "      <td>1451</td>\n",
       "      <td>1748</td>\n",
       "      <td>620</td>\n",
       "      <td>53730</td>\n",
       "    </tr>\n",
       "    <tr>\n",
       "      <th>4</th>\n",
       "      <td>5</td>\n",
       "      <td>1770</td>\n",
       "      <td>2111</td>\n",
       "      <td>450</td>\n",
       "      <td>46620</td>\n",
       "    </tr>\n",
       "    <tr>\n",
       "      <th>...</th>\n",
       "      <td>...</td>\n",
       "      <td>...</td>\n",
       "      <td>...</td>\n",
       "      <td>...</td>\n",
       "      <td>...</td>\n",
       "    </tr>\n",
       "    <tr>\n",
       "      <th>891</th>\n",
       "      <td>892</td>\n",
       "      <td>1582</td>\n",
       "      <td>1910</td>\n",
       "      <td>1080</td>\n",
       "      <td>66390</td>\n",
       "    </tr>\n",
       "    <tr>\n",
       "      <th>892</th>\n",
       "      <td>893</td>\n",
       "      <td>1387</td>\n",
       "      <td>1663</td>\n",
       "      <td>850</td>\n",
       "      <td>82080</td>\n",
       "    </tr>\n",
       "    <tr>\n",
       "      <th>893</th>\n",
       "      <td>894</td>\n",
       "      <td>1200</td>\n",
       "      <td>1436</td>\n",
       "      <td>1060</td>\n",
       "      <td>76440</td>\n",
       "    </tr>\n",
       "    <tr>\n",
       "      <th>894</th>\n",
       "      <td>895</td>\n",
       "      <td>1299</td>\n",
       "      <td>1560</td>\n",
       "      <td>770</td>\n",
       "      <td>96610</td>\n",
       "    </tr>\n",
       "    <tr>\n",
       "      <th>895</th>\n",
       "      <td>896</td>\n",
       "      <td>1174</td>\n",
       "      <td>1429</td>\n",
       "      <td>1110</td>\n",
       "      <td>54340</td>\n",
       "    </tr>\n",
       "  </tbody>\n",
       "</table>\n",
       "<p>896 rows × 5 columns</p>\n",
       "</div>"
      ],
      "text/plain": [
       "     Store ID   Store_Area  Items_Available  Daily_Customer_Count  Store_Sales\n",
       "0            1        1659             1961                   530        66490\n",
       "1            2        1461             1752                   210        39820\n",
       "2            3        1340             1609                   720        54010\n",
       "3            4        1451             1748                   620        53730\n",
       "4            5        1770             2111                   450        46620\n",
       "..         ...         ...              ...                   ...          ...\n",
       "891        892        1582             1910                  1080        66390\n",
       "892        893        1387             1663                   850        82080\n",
       "893        894        1200             1436                  1060        76440\n",
       "894        895        1299             1560                   770        96610\n",
       "895        896        1174             1429                  1110        54340\n",
       "\n",
       "[896 rows x 5 columns]"
      ]
     },
     "execution_count": 2,
     "metadata": {},
     "output_type": "execute_result"
    }
   ],
   "source": [
    "store_data"
   ]
  },
  {
   "cell_type": "code",
   "execution_count": 3,
   "id": "973f0083",
   "metadata": {
    "execution": {
     "iopub.execute_input": "2023-01-25T10:29:17.774824Z",
     "iopub.status.busy": "2023-01-25T10:29:17.774409Z",
     "iopub.status.idle": "2023-01-25T10:29:17.791872Z",
     "shell.execute_reply": "2023-01-25T10:29:17.790636Z"
    },
    "papermill": {
     "duration": 0.026063,
     "end_time": "2023-01-25T10:29:17.794437",
     "exception": false,
     "start_time": "2023-01-25T10:29:17.768374",
     "status": "completed"
    },
    "tags": []
   },
   "outputs": [
    {
     "data": {
      "text/html": [
       "<div>\n",
       "<style scoped>\n",
       "    .dataframe tbody tr th:only-of-type {\n",
       "        vertical-align: middle;\n",
       "    }\n",
       "\n",
       "    .dataframe tbody tr th {\n",
       "        vertical-align: top;\n",
       "    }\n",
       "\n",
       "    .dataframe thead th {\n",
       "        text-align: right;\n",
       "    }\n",
       "</style>\n",
       "<table border=\"1\" class=\"dataframe\">\n",
       "  <thead>\n",
       "    <tr style=\"text-align: right;\">\n",
       "      <th></th>\n",
       "      <th>Store ID</th>\n",
       "      <th>Store_Area</th>\n",
       "      <th>Items_Available</th>\n",
       "      <th>Daily_Customer_Count</th>\n",
       "      <th>Store_Sales</th>\n",
       "    </tr>\n",
       "  </thead>\n",
       "  <tbody>\n",
       "    <tr>\n",
       "      <th>408</th>\n",
       "      <td>409</td>\n",
       "      <td>1303</td>\n",
       "      <td>1587</td>\n",
       "      <td>1310</td>\n",
       "      <td>102310</td>\n",
       "    </tr>\n",
       "    <tr>\n",
       "      <th>432</th>\n",
       "      <td>433</td>\n",
       "      <td>1365</td>\n",
       "      <td>1638</td>\n",
       "      <td>680</td>\n",
       "      <td>102920</td>\n",
       "    </tr>\n",
       "    <tr>\n",
       "      <th>557</th>\n",
       "      <td>558</td>\n",
       "      <td>1137</td>\n",
       "      <td>1374</td>\n",
       "      <td>700</td>\n",
       "      <td>101780</td>\n",
       "    </tr>\n",
       "    <tr>\n",
       "      <th>649</th>\n",
       "      <td>650</td>\n",
       "      <td>1989</td>\n",
       "      <td>2414</td>\n",
       "      <td>860</td>\n",
       "      <td>116320</td>\n",
       "    </tr>\n",
       "    <tr>\n",
       "      <th>758</th>\n",
       "      <td>759</td>\n",
       "      <td>1486</td>\n",
       "      <td>1758</td>\n",
       "      <td>820</td>\n",
       "      <td>101820</td>\n",
       "    </tr>\n",
       "    <tr>\n",
       "      <th>866</th>\n",
       "      <td>867</td>\n",
       "      <td>1565</td>\n",
       "      <td>1854</td>\n",
       "      <td>900</td>\n",
       "      <td>100900</td>\n",
       "    </tr>\n",
       "    <tr>\n",
       "      <th>868</th>\n",
       "      <td>869</td>\n",
       "      <td>1775</td>\n",
       "      <td>2104</td>\n",
       "      <td>980</td>\n",
       "      <td>105150</td>\n",
       "    </tr>\n",
       "  </tbody>\n",
       "</table>\n",
       "</div>"
      ],
      "text/plain": [
       "     Store ID   Store_Area  Items_Available  Daily_Customer_Count  Store_Sales\n",
       "408        409        1303             1587                  1310       102310\n",
       "432        433        1365             1638                   680       102920\n",
       "557        558        1137             1374                   700       101780\n",
       "649        650        1989             2414                   860       116320\n",
       "758        759        1486             1758                   820       101820\n",
       "866        867        1565             1854                   900       100900\n",
       "868        869        1775             2104                   980       105150"
      ]
     },
     "execution_count": 3,
     "metadata": {},
     "output_type": "execute_result"
    }
   ],
   "source": [
    "#stores that hvae more than 100k in sales\n",
    "store_data[store_data[\"Store_Sales\"]>100000]"
   ]
  },
  {
   "cell_type": "code",
   "execution_count": 4,
   "id": "39ae7bf2",
   "metadata": {
    "execution": {
     "iopub.execute_input": "2023-01-25T10:29:17.806182Z",
     "iopub.status.busy": "2023-01-25T10:29:17.805746Z",
     "iopub.status.idle": "2023-01-25T10:29:17.811862Z",
     "shell.execute_reply": "2023-01-25T10:29:17.810637Z"
    },
    "papermill": {
     "duration": 0.01488,
     "end_time": "2023-01-25T10:29:17.814203",
     "exception": false,
     "start_time": "2023-01-25T10:29:17.799323",
     "status": "completed"
    },
    "tags": []
   },
   "outputs": [],
   "source": [
    "#create new feature column of ration between the sales and area of a store\n",
    "store_data[\"Sales_area\"] = store_data[\"Store_Sales\"]/store_data[\"Store_Area\"]"
   ]
  },
  {
   "cell_type": "code",
   "execution_count": 5,
   "id": "d1860124",
   "metadata": {
    "execution": {
     "iopub.execute_input": "2023-01-25T10:29:17.826230Z",
     "iopub.status.busy": "2023-01-25T10:29:17.825548Z",
     "iopub.status.idle": "2023-01-25T10:29:17.837404Z",
     "shell.execute_reply": "2023-01-25T10:29:17.836267Z"
    },
    "papermill": {
     "duration": 0.020702,
     "end_time": "2023-01-25T10:29:17.839818",
     "exception": false,
     "start_time": "2023-01-25T10:29:17.819116",
     "status": "completed"
    },
    "tags": []
   },
   "outputs": [
    {
     "data": {
      "text/html": [
       "<div>\n",
       "<style scoped>\n",
       "    .dataframe tbody tr th:only-of-type {\n",
       "        vertical-align: middle;\n",
       "    }\n",
       "\n",
       "    .dataframe tbody tr th {\n",
       "        vertical-align: top;\n",
       "    }\n",
       "\n",
       "    .dataframe thead th {\n",
       "        text-align: right;\n",
       "    }\n",
       "</style>\n",
       "<table border=\"1\" class=\"dataframe\">\n",
       "  <thead>\n",
       "    <tr style=\"text-align: right;\">\n",
       "      <th></th>\n",
       "      <th>Store ID</th>\n",
       "      <th>Store_Area</th>\n",
       "      <th>Items_Available</th>\n",
       "      <th>Daily_Customer_Count</th>\n",
       "      <th>Store_Sales</th>\n",
       "      <th>Sales_area</th>\n",
       "    </tr>\n",
       "  </thead>\n",
       "  <tbody>\n",
       "    <tr>\n",
       "      <th>0</th>\n",
       "      <td>1</td>\n",
       "      <td>1659</td>\n",
       "      <td>1961</td>\n",
       "      <td>530</td>\n",
       "      <td>66490</td>\n",
       "      <td>40.078360</td>\n",
       "    </tr>\n",
       "    <tr>\n",
       "      <th>1</th>\n",
       "      <td>2</td>\n",
       "      <td>1461</td>\n",
       "      <td>1752</td>\n",
       "      <td>210</td>\n",
       "      <td>39820</td>\n",
       "      <td>27.255305</td>\n",
       "    </tr>\n",
       "    <tr>\n",
       "      <th>2</th>\n",
       "      <td>3</td>\n",
       "      <td>1340</td>\n",
       "      <td>1609</td>\n",
       "      <td>720</td>\n",
       "      <td>54010</td>\n",
       "      <td>40.305970</td>\n",
       "    </tr>\n",
       "    <tr>\n",
       "      <th>3</th>\n",
       "      <td>4</td>\n",
       "      <td>1451</td>\n",
       "      <td>1748</td>\n",
       "      <td>620</td>\n",
       "      <td>53730</td>\n",
       "      <td>37.029635</td>\n",
       "    </tr>\n",
       "    <tr>\n",
       "      <th>4</th>\n",
       "      <td>5</td>\n",
       "      <td>1770</td>\n",
       "      <td>2111</td>\n",
       "      <td>450</td>\n",
       "      <td>46620</td>\n",
       "      <td>26.338983</td>\n",
       "    </tr>\n",
       "  </tbody>\n",
       "</table>\n",
       "</div>"
      ],
      "text/plain": [
       "   Store ID   Store_Area  Items_Available  Daily_Customer_Count  Store_Sales  \\\n",
       "0          1        1659             1961                   530        66490   \n",
       "1          2        1461             1752                   210        39820   \n",
       "2          3        1340             1609                   720        54010   \n",
       "3          4        1451             1748                   620        53730   \n",
       "4          5        1770             2111                   450        46620   \n",
       "\n",
       "   Sales_area  \n",
       "0   40.078360  \n",
       "1   27.255305  \n",
       "2   40.305970  \n",
       "3   37.029635  \n",
       "4   26.338983  "
      ]
     },
     "execution_count": 5,
     "metadata": {},
     "output_type": "execute_result"
    }
   ],
   "source": [
    "#confirming the column created\n",
    "store_data.head()"
   ]
  },
  {
   "cell_type": "code",
   "execution_count": 6,
   "id": "7d2656ad",
   "metadata": {
    "execution": {
     "iopub.execute_input": "2023-01-25T10:29:17.852251Z",
     "iopub.status.busy": "2023-01-25T10:29:17.851762Z",
     "iopub.status.idle": "2023-01-25T10:29:18.061374Z",
     "shell.execute_reply": "2023-01-25T10:29:18.060119Z"
    },
    "papermill": {
     "duration": 0.219155,
     "end_time": "2023-01-25T10:29:18.064166",
     "exception": false,
     "start_time": "2023-01-25T10:29:17.845011",
     "status": "completed"
    },
    "tags": []
   },
   "outputs": [
    {
     "data": {
      "text/plain": [
       "Text(0, 0.5, 'Frequency')"
      ]
     },
     "execution_count": 6,
     "metadata": {},
     "output_type": "execute_result"
    },
    {
     "data": {
      "image/png": "[encoded data removed]",
      "text/plain": [
       "<Figure size 432x288 with 1 Axes>"
      ]
     },
     "metadata": {
      "needs_background": "light"
     },
     "output_type": "display_data"
    }
   ],
   "source": [
    "#Creating visual report using sales histogram\n",
    "import matplotlib.pyplot as plt \n",
    "plt.figure()\n",
    "plt.hist(store_data[\"Store_Sales\"], bins=20, edgecolor=\"black\")\n",
    "#bin is the width of the \n",
    "plt.title(\"Sales\")\n",
    "plt.xlabel(\"Sales in $\")\n",
    "plt.ylabel(\"Frequency\")"
   ]
  },
  {
   "cell_type": "code",
   "execution_count": 7,
   "id": "5f7a02af",
   "metadata": {
    "execution": {
     "iopub.execute_input": "2023-01-25T10:29:18.076787Z",
     "iopub.status.busy": "2023-01-25T10:29:18.076345Z",
     "iopub.status.idle": "2023-01-25T10:29:19.645021Z",
     "shell.execute_reply": "2023-01-25T10:29:19.643725Z"
    },
    "papermill": {
     "duration": 1.578187,
     "end_time": "2023-01-25T10:29:19.647756",
     "exception": false,
     "start_time": "2023-01-25T10:29:18.069569",
     "status": "completed"
    },
    "tags": []
   },
   "outputs": [
    {
     "data": {
      "text/plain": [
       "<AxesSubplot:>"
      ]
     },
     "execution_count": 7,
     "metadata": {},
     "output_type": "execute_result"
    },
    {
     "data": {
      "image/png": "[encoded data removed]",
      "text/plain": [
       "<Figure size 432x288 with 2 Axes>"
      ]
     },
     "metadata": {
      "needs_background": "light"
     },
     "output_type": "display_data"
    }
   ],
   "source": [
    "#creating visual report of feature correaltion using heatmap\n",
    "#In order to understand the relationships between features, we can use the Pearson Correlation Coefficient. Use Pandas to create a correlation matrix of the columns in the data. \n",
    "#Then use the seaborn library to visualize these correlation matrix values using a Heatmap.\n",
    "import seaborn as sns\n",
    "#creating correlationmatrix\n",
    "store_data.corr()\n",
    "#creating heatmap of corr matrix\n",
    "sns.heatmap(store_data.corr(), annot=True, cmap=\"jet\")"
   ]
  },
  {
   "cell_type": "code",
   "execution_count": 8,
   "id": "d537de5a",
   "metadata": {
    "execution": {
     "iopub.execute_input": "2023-01-25T10:29:19.662548Z",
     "iopub.status.busy": "2023-01-25T10:29:19.662115Z",
     "iopub.status.idle": "2023-01-25T10:29:19.859840Z",
     "shell.execute_reply": "2023-01-25T10:29:19.858648Z"
    },
    "papermill": {
     "duration": 0.207972,
     "end_time": "2023-01-25T10:29:19.862561",
     "exception": false,
     "start_time": "2023-01-25T10:29:19.654589",
     "status": "completed"
    },
    "tags": []
   },
   "outputs": [],
   "source": [
    "#splitting data into Trainign and testing\n",
    "from sklearn.model_selection import train_test_split\n",
    "#creating data and labels\n",
    "data, labels = store_data.drop([\"Store ID \",\"Store_Sales\"], axis=1), store_data[\"Store_Sales\"]    "
   ]
  },
  {
   "cell_type": "code",
   "execution_count": 9,
   "id": "3a734067",
   "metadata": {
    "execution": {
     "iopub.execute_input": "2023-01-25T10:29:19.876595Z",
     "iopub.status.busy": "2023-01-25T10:29:19.876166Z",
     "iopub.status.idle": "2023-01-25T10:29:19.891701Z",
     "shell.execute_reply": "2023-01-25T10:29:19.890357Z"
    },
    "papermill": {
     "duration": 0.025845,
     "end_time": "2023-01-25T10:29:19.894542",
     "exception": false,
     "start_time": "2023-01-25T10:29:19.868697",
     "status": "completed"
    },
    "tags": []
   },
   "outputs": [
    {
     "data": {
      "text/html": [
       "<div>\n",
       "<style scoped>\n",
       "    .dataframe tbody tr th:only-of-type {\n",
       "        vertical-align: middle;\n",
       "    }\n",
       "\n",
       "    .dataframe tbody tr th {\n",
       "        vertical-align: top;\n",
       "    }\n",
       "\n",
       "    .dataframe thead th {\n",
       "        text-align: right;\n",
       "    }\n",
       "</style>\n",
       "<table border=\"1\" class=\"dataframe\">\n",
       "  <thead>\n",
       "    <tr style=\"text-align: right;\">\n",
       "      <th></th>\n",
       "      <th>Store_Area</th>\n",
       "      <th>Items_Available</th>\n",
       "      <th>Daily_Customer_Count</th>\n",
       "      <th>Sales_area</th>\n",
       "    </tr>\n",
       "  </thead>\n",
       "  <tbody>\n",
       "    <tr>\n",
       "      <th>0</th>\n",
       "      <td>1659</td>\n",
       "      <td>1961</td>\n",
       "      <td>530</td>\n",
       "      <td>40.078360</td>\n",
       "    </tr>\n",
       "    <tr>\n",
       "      <th>1</th>\n",
       "      <td>1461</td>\n",
       "      <td>1752</td>\n",
       "      <td>210</td>\n",
       "      <td>27.255305</td>\n",
       "    </tr>\n",
       "    <tr>\n",
       "      <th>2</th>\n",
       "      <td>1340</td>\n",
       "      <td>1609</td>\n",
       "      <td>720</td>\n",
       "      <td>40.305970</td>\n",
       "    </tr>\n",
       "    <tr>\n",
       "      <th>3</th>\n",
       "      <td>1451</td>\n",
       "      <td>1748</td>\n",
       "      <td>620</td>\n",
       "      <td>37.029635</td>\n",
       "    </tr>\n",
       "    <tr>\n",
       "      <th>4</th>\n",
       "      <td>1770</td>\n",
       "      <td>2111</td>\n",
       "      <td>450</td>\n",
       "      <td>26.338983</td>\n",
       "    </tr>\n",
       "    <tr>\n",
       "      <th>...</th>\n",
       "      <td>...</td>\n",
       "      <td>...</td>\n",
       "      <td>...</td>\n",
       "      <td>...</td>\n",
       "    </tr>\n",
       "    <tr>\n",
       "      <th>891</th>\n",
       "      <td>1582</td>\n",
       "      <td>1910</td>\n",
       "      <td>1080</td>\n",
       "      <td>41.965866</td>\n",
       "    </tr>\n",
       "    <tr>\n",
       "      <th>892</th>\n",
       "      <td>1387</td>\n",
       "      <td>1663</td>\n",
       "      <td>850</td>\n",
       "      <td>59.178082</td>\n",
       "    </tr>\n",
       "    <tr>\n",
       "      <th>893</th>\n",
       "      <td>1200</td>\n",
       "      <td>1436</td>\n",
       "      <td>1060</td>\n",
       "      <td>63.700000</td>\n",
       "    </tr>\n",
       "    <tr>\n",
       "      <th>894</th>\n",
       "      <td>1299</td>\n",
       "      <td>1560</td>\n",
       "      <td>770</td>\n",
       "      <td>74.372594</td>\n",
       "    </tr>\n",
       "    <tr>\n",
       "      <th>895</th>\n",
       "      <td>1174</td>\n",
       "      <td>1429</td>\n",
       "      <td>1110</td>\n",
       "      <td>46.286201</td>\n",
       "    </tr>\n",
       "  </tbody>\n",
       "</table>\n",
       "<p>896 rows × 4 columns</p>\n",
       "</div>"
      ],
      "text/plain": [
       "     Store_Area  Items_Available  Daily_Customer_Count  Sales_area\n",
       "0          1659             1961                   530   40.078360\n",
       "1          1461             1752                   210   27.255305\n",
       "2          1340             1609                   720   40.305970\n",
       "3          1451             1748                   620   37.029635\n",
       "4          1770             2111                   450   26.338983\n",
       "..          ...              ...                   ...         ...\n",
       "891        1582             1910                  1080   41.965866\n",
       "892        1387             1663                   850   59.178082\n",
       "893        1200             1436                  1060   63.700000\n",
       "894        1299             1560                   770   74.372594\n",
       "895        1174             1429                  1110   46.286201\n",
       "\n",
       "[896 rows x 4 columns]"
      ]
     },
     "execution_count": 9,
     "metadata": {},
     "output_type": "execute_result"
    }
   ],
   "source": [
    "data"
   ]
  },
  {
   "cell_type": "code",
   "execution_count": 10,
   "id": "936387a6",
   "metadata": {
    "execution": {
     "iopub.execute_input": "2023-01-25T10:29:19.909860Z",
     "iopub.status.busy": "2023-01-25T10:29:19.908970Z",
     "iopub.status.idle": "2023-01-25T10:29:19.917400Z",
     "shell.execute_reply": "2023-01-25T10:29:19.916502Z"
    },
    "papermill": {
     "duration": 0.018619,
     "end_time": "2023-01-25T10:29:19.919720",
     "exception": false,
     "start_time": "2023-01-25T10:29:19.901101",
     "status": "completed"
    },
    "tags": []
   },
   "outputs": [
    {
     "data": {
      "text/plain": [
       "0      66490\n",
       "1      39820\n",
       "2      54010\n",
       "3      53730\n",
       "4      46620\n",
       "       ...  \n",
       "891    66390\n",
       "892    82080\n",
       "893    76440\n",
       "894    96610\n",
       "895    54340\n",
       "Name: Store_Sales, Length: 896, dtype: int64"
      ]
     },
     "execution_count": 10,
     "metadata": {},
     "output_type": "execute_result"
    }
   ],
   "source": [
    "labels"
   ]
  },
  {
   "cell_type": "code",
   "execution_count": 11,
   "id": "d021ded7",
   "metadata": {
    "execution": {
     "iopub.execute_input": "2023-01-25T10:29:19.934867Z",
     "iopub.status.busy": "2023-01-25T10:29:19.934472Z",
     "iopub.status.idle": "2023-01-25T10:29:19.942536Z",
     "shell.execute_reply": "2023-01-25T10:29:19.941256Z"
    },
    "papermill": {
     "duration": 0.018829,
     "end_time": "2023-01-25T10:29:19.945253",
     "exception": false,
     "start_time": "2023-01-25T10:29:19.926424",
     "status": "completed"
    },
    "tags": []
   },
   "outputs": [],
   "source": [
    "#perfroming train, test and split\n",
    "X_train, X_test, y_train, y_test = train_test_split(data,labels, test_size = 0.2, random_state = 42)"
   ]
  },
  {
   "cell_type": "code",
   "execution_count": 12,
   "id": "ccc3e0e8",
   "metadata": {
    "execution": {
     "iopub.execute_input": "2023-01-25T10:29:19.959921Z",
     "iopub.status.busy": "2023-01-25T10:29:19.959509Z",
     "iopub.status.idle": "2023-01-25T10:29:20.042426Z",
     "shell.execute_reply": "2023-01-25T10:29:20.041154Z"
    },
    "papermill": {
     "duration": 0.093828,
     "end_time": "2023-01-25T10:29:20.045531",
     "exception": false,
     "start_time": "2023-01-25T10:29:19.951703",
     "status": "completed"
    },
    "tags": []
   },
   "outputs": [],
   "source": [
    "#creating a linear regression model\n",
    "from sklearn.linear_model import LinearRegression\n",
    "linear_regression = LinearRegression()"
   ]
  },
  {
   "cell_type": "code",
   "execution_count": 13,
   "id": "906706d4",
   "metadata": {
    "execution": {
     "iopub.execute_input": "2023-01-25T10:29:20.060531Z",
     "iopub.status.busy": "2023-01-25T10:29:20.060107Z",
     "iopub.status.idle": "2023-01-25T10:29:20.089146Z",
     "shell.execute_reply": "2023-01-25T10:29:20.087862Z"
    },
    "papermill": {
     "duration": 0.039624,
     "end_time": "2023-01-25T10:29:20.091701",
     "exception": false,
     "start_time": "2023-01-25T10:29:20.052077",
     "status": "completed"
    },
    "tags": []
   },
   "outputs": [
    {
     "data": {
      "text/plain": [
       "LinearRegression()"
      ]
     },
     "execution_count": 13,
     "metadata": {},
     "output_type": "execute_result"
    }
   ],
   "source": [
    "#fitting into model\n",
    "linear_regression.fit(X_train, y_train)"
   ]
  },
  {
   "cell_type": "markdown",
   "id": "ef36bc74",
   "metadata": {
    "papermill": {
     "duration": 0.006215,
     "end_time": "2023-01-25T10:29:20.105064",
     "exception": false,
     "start_time": "2023-01-25T10:29:20.098849",
     "status": "completed"
    },
    "tags": []
   },
   "source": [
    "The RMSE is a commonly used metric to evaluate the performance of a regression model, as it measures the average difference between the predicted and actual values. The lower the RMSE, the better the model's performance."
   ]
  },
  {
   "cell_type": "code",
   "execution_count": 14,
   "id": "d493bb2f",
   "metadata": {
    "execution": {
     "iopub.execute_input": "2023-01-25T10:29:20.120482Z",
     "iopub.status.busy": "2023-01-25T10:29:20.120034Z",
     "iopub.status.idle": "2023-01-25T10:29:20.131577Z",
     "shell.execute_reply": "2023-01-25T10:29:20.130398Z"
    },
    "papermill": {
     "duration": 0.021994,
     "end_time": "2023-01-25T10:29:20.133976",
     "exception": false,
     "start_time": "2023-01-25T10:29:20.111982",
     "status": "completed"
    },
    "tags": []
   },
   "outputs": [
    {
     "data": {
      "text/plain": [
       "3294.484197549969"
      ]
     },
     "execution_count": 14,
     "metadata": {},
     "output_type": "execute_result"
    }
   ],
   "source": [
    "#Evaluate forecast the results using Regression matrics\n",
    "from sklearn.metrics import mean_squared_error\n",
    "preds = linear_regression.predict(X_test)\n",
    "mean_squared_error(preds, y_test)**0.5"
   ]
  }
 ],
 "metadata": {
  "kernelspec": {
   "display_name": "Python 3",
   "language": "python",
   "name": "python3"
  },
  "language_info": {
   "codemirror_mode": {
    "name": "ipython",
    "version": 3
   },
   "file_extension": ".py",
   "mimetype": "text/x-python",
   "name": "python",
   "nbconvert_exporter": "python",
   "pygments_lexer": "ipython3",
   "version": "3.7.12"
  },
  "papermill": {
   "default_parameters": {},
   "duration": 12.549945,
   "end_time": "2023-01-25T10:29:20.964298",
   "environment_variables": {},
   "exception": null,
   "input_path": "__notebook__.ipynb",
   "output_path": "__notebook__.ipynb",
   "parameters": {},
   "start_time": "2023-01-25T10:29:08.414353",
   "version": "2.3.4"
  }
 },
 "nbformat": 4,
 "nbformat_minor": 5
}
